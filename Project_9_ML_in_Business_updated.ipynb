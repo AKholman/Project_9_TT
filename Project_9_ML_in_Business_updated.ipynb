{
 "cells": [
  {
   "cell_type": "markdown",
   "metadata": {},
   "source": [
    "<p style=\"text-align: center; font-size: 24px; font-weight: bold;\">\n",
    "PROJECT: Optimizing Oil Well Placement: A Predictive Analysis of Profits and Risks for OilyGiant Mining Company\n",
    "</p>\n",
    "\n"
   ]
  },
  {
   "cell_type": "markdown",
   "metadata": {},
   "source": [
    "#### Introduction.  \n",
    "In this project, we will work with data from the OilyGiant mining company to identify the best location for new oil wells. The goal is to predict the volume of reserves and evaluate potential profit margins for three selected regions. To achieve this, we will analyze key oil well parameters, including oil quality and volume of reserves, for each region. First, we will preprocess and clean the available data to ensure its readiness for analysis. We will then build a Linear Regression model to predict the volume of reserves for new wells. After identifying the wells with the highest predicted reserves, we will calculate the total profit for each region based on these predictions. To assess the risks, we will apply the Bootstrapping technique to estimate the potential profits and risks of losses for each region. Our final task is to recommend the region with the highest expected profit and the lowest risk, ensuring that the risk of losses does not exceed 2.5%. The findings will provide insights into the best locations for the development of new oil wells. "
   ]
  },
  {
   "cell_type": "markdown",
   "metadata": {},
   "source": [
    "#### Importing functions"
   ]
  },
  {
   "cell_type": "code",
   "execution_count": 4,
   "metadata": {},
   "outputs": [],
   "source": [
    "import pandas as pd\n",
    "from sklearn.linear_model import LinearRegression\n",
    "from sklearn.model_selection import train_test_split\n",
    "from sklearn.metrics import mean_squared_error\n",
    "from sklearn.metrics import r2_score\n",
    "from sklearn.metrics import mean_absolute_error\n",
    "import numpy as np\n"
   ]
  },
  {
   "cell_type": "markdown",
   "metadata": {},
   "source": [
    "### Data preparation"
   ]
  },
  {
   "cell_type": "markdown",
   "metadata": {},
   "source": [
    "#### Data preprocessing"
   ]
  },
  {
   "cell_type": "code",
   "execution_count": 7,
   "metadata": {},
   "outputs": [],
   "source": [
    "# Here we download three datasets\n",
    "data_0 = pd.read_csv('geo_data_0.csv')\n",
    "data_1 = pd.read_csv('geo_data_1.csv')\n",
    "data_2 = pd.read_csv('geo_data_2.csv')\n"
   ]
  },
  {
   "cell_type": "code",
   "execution_count": 8,
   "metadata": {},
   "outputs": [
    {
     "name": "stdout",
     "output_type": "stream",
     "text": [
      "<class 'pandas.core.frame.DataFrame'>\n",
      "RangeIndex: 100000 entries, 0 to 99999\n",
      "Data columns (total 5 columns):\n",
      " #   Column   Non-Null Count   Dtype  \n",
      "---  ------   --------------   -----  \n",
      " 0   id       100000 non-null  object \n",
      " 1   f0       100000 non-null  float64\n",
      " 2   f1       100000 non-null  float64\n",
      " 3   f2       100000 non-null  float64\n",
      " 4   product  100000 non-null  float64\n",
      "dtypes: float64(4), object(1)\n",
      "memory usage: 3.8+ MB\n",
      "None\n",
      "      id        f0        f1        f2     product\n",
      "0  txEyH  0.705745 -0.497823  1.221170  105.280062\n",
      "1  2acmU  1.334711 -0.340164  4.365080   73.037750\n",
      "2  409Wp  1.022732  0.151990  1.419926   85.265647\n",
      "3  iJLyR -0.032172  0.139033  2.978566  168.620776\n",
      "4  Xdl7t  1.988431  0.155413  4.751769  154.036647\n",
      "id         0\n",
      "f0         0\n",
      "f1         0\n",
      "f2         0\n",
      "product    0\n",
      "dtype: int64\n",
      "0\n",
      "99990\n"
     ]
    }
   ],
   "source": [
    "# Data preprocessing\n",
    "print(data_0.info())\n",
    "print(data_0.head())\n",
    "print(data_0.isna().sum())\n",
    "print(data_0.duplicated().sum())\n",
    "print(data_0['id'].nunique())"
   ]
  },
  {
   "cell_type": "code",
   "execution_count": 9,
   "metadata": {},
   "outputs": [
    {
     "name": "stdout",
     "output_type": "stream",
     "text": [
      "<class 'pandas.core.frame.DataFrame'>\n",
      "RangeIndex: 100000 entries, 0 to 99999\n",
      "Data columns (total 5 columns):\n",
      " #   Column   Non-Null Count   Dtype  \n",
      "---  ------   --------------   -----  \n",
      " 0   id       100000 non-null  object \n",
      " 1   f0       100000 non-null  float64\n",
      " 2   f1       100000 non-null  float64\n",
      " 3   f2       100000 non-null  float64\n",
      " 4   product  100000 non-null  float64\n",
      "dtypes: float64(4), object(1)\n",
      "memory usage: 3.8+ MB\n",
      "None\n",
      "      id         f0         f1        f2     product\n",
      "0  kBEdx -15.001348  -8.276000 -0.005876    3.179103\n",
      "1  62mP7  14.272088  -3.475083  0.999183   26.953261\n",
      "2  vyE1P   6.263187  -5.948386  5.001160  134.766305\n",
      "3  KcrkZ -13.081196 -11.506057  4.999415  137.945408\n",
      "4  AHL4O  12.702195  -8.147433  5.004363  134.766305\n",
      "id         0\n",
      "f0         0\n",
      "f1         0\n",
      "f2         0\n",
      "product    0\n",
      "dtype: int64\n"
     ]
    },
    {
     "data": {
      "text/plain": [
       "0"
      ]
     },
     "execution_count": 9,
     "metadata": {},
     "output_type": "execute_result"
    }
   ],
   "source": [
    "# Data preprocessing\n",
    "print(data_1.info())\n",
    "print(data_1.head())\n",
    "print(data_1.isna().sum())\n",
    "data_1.duplicated().sum()"
   ]
  },
  {
   "cell_type": "code",
   "execution_count": 10,
   "metadata": {},
   "outputs": [
    {
     "name": "stdout",
     "output_type": "stream",
     "text": [
      "<class 'pandas.core.frame.DataFrame'>\n",
      "RangeIndex: 100000 entries, 0 to 99999\n",
      "Data columns (total 5 columns):\n",
      " #   Column   Non-Null Count   Dtype  \n",
      "---  ------   --------------   -----  \n",
      " 0   id       100000 non-null  object \n",
      " 1   f0       100000 non-null  float64\n",
      " 2   f1       100000 non-null  float64\n",
      " 3   f2       100000 non-null  float64\n",
      " 4   product  100000 non-null  float64\n",
      "dtypes: float64(4), object(1)\n",
      "memory usage: 3.8+ MB\n",
      "None\n",
      "      id        f0        f1        f2     product\n",
      "0  fwXo0 -1.146987  0.963328 -0.828965   27.758673\n",
      "1  WJtFt  0.262778  0.269839 -2.530187   56.069697\n",
      "2  ovLUW  0.194587  0.289035 -5.586433   62.871910\n",
      "3  q6cA6  2.236060 -0.553760  0.930038  114.572842\n",
      "4  WPMUX -0.515993  1.716266  5.899011  149.600746\n",
      "id         0\n",
      "f0         0\n",
      "f1         0\n",
      "f2         0\n",
      "product    0\n",
      "dtype: int64\n"
     ]
    },
    {
     "data": {
      "text/plain": [
       "0"
      ]
     },
     "execution_count": 10,
     "metadata": {},
     "output_type": "execute_result"
    }
   ],
   "source": [
    "# Data preprocessing\n",
    "print(data_2.info())\n",
    "print(data_2.head())\n",
    "print(data_2.isna().sum())\n",
    "data_2.duplicated().sum()"
   ]
  },
  {
   "cell_type": "markdown",
   "metadata": {},
   "source": [
    "All three datasets have no missing and duplicated values. "
   ]
  },
  {
   "cell_type": "markdown",
   "metadata": {},
   "source": [
    "#### Data cleaning"
   ]
  },
  {
   "cell_type": "code",
   "execution_count": 13,
   "metadata": {},
   "outputs": [
    {
     "name": "stdout",
     "output_type": "stream",
     "text": [
      "         f0        f1        f2     product\n",
      "0  0.705745 -0.497823  1.221170  105.280062\n",
      "1  1.334711 -0.340164  4.365080   73.037750\n",
      "2  1.022732  0.151990  1.419926   85.265647\n",
      "3 -0.032172  0.139033  2.978566  168.620776\n",
      "4  1.988431  0.155413  4.751769  154.036647\n",
      "          f0         f1        f2     product\n",
      "0 -15.001348  -8.276000 -0.005876    3.179103\n",
      "1  14.272088  -3.475083  0.999183   26.953261\n",
      "2   6.263187  -5.948386  5.001160  134.766305\n",
      "3 -13.081196 -11.506057  4.999415  137.945408\n",
      "4  12.702195  -8.147433  5.004363  134.766305\n",
      "         f0        f1        f2     product\n",
      "0 -1.146987  0.963328 -0.828965   27.758673\n",
      "1  0.262778  0.269839 -2.530187   56.069697\n",
      "2  0.194587  0.289035 -5.586433   62.871910\n",
      "3  2.236060 -0.553760  0.930038  114.572842\n",
      "4 -0.515993  1.716266  5.899011  149.600746\n"
     ]
    }
   ],
   "source": [
    "#All three datasets have ['id'] feature (cathegorical datatype). The values of ['id'] cannot determine \n",
    "#the quality of oil and product volume. Therefore we remove this feature from all three datasets. \n",
    "\n",
    "data_0 = data_0.drop(['id'], axis=1)\n",
    "data_1 = data_1.drop(['id'], axis=1)\n",
    "data_2 = data_2.drop(['id'], axis=1)\n",
    "\n",
    "print(data_0.head(5))\n",
    "print(data_1.head(5))\n",
    "print(data_2.head(5))\n"
   ]
  },
  {
   "cell_type": "markdown",
   "metadata": {},
   "source": [
    "### LinearRegression for model training "
   ]
  },
  {
   "cell_type": "code",
   "execution_count": 15,
   "metadata": {},
   "outputs": [
    {
     "name": "stdout",
     "output_type": "stream",
     "text": [
      "Avrage volume of predicted reserves = 92.5926\n",
      "RMSE_0 = 37.5794\n",
      "R2_0 metric value: 0.2799\n",
      "MAE_0= 30.9196\n"
     ]
    }
   ],
   "source": [
    "# data_0\n",
    "\n",
    "features_0 = data_0.drop(['product'], axis=1) \n",
    "target_0 = data_0['product']\n",
    "\n",
    "features_train_0, features_valid_0, target_train_0, target_valid_0 = train_test_split(features_0, target_0, test_size=25000, random_state=12345)\n",
    "\n",
    "model = LinearRegression()\n",
    "model.fit(features_train_0, target_train_0)\n",
    "predict_0 = model.predict(features_valid_0)\n",
    "\n",
    "predict_0_avg = predict_0.mean()\n",
    "print(f'Avrage volume of predicted reserves = {predict_0_avg:.4f}')\n",
    "\n",
    "\n",
    "# below, we calculate RMSE, R2 and MAE metrics:\n",
    "mse_0 = mean_squared_error(target_valid_0, predict_0)\n",
    "R2_0 = model.score(features_valid_0, target_valid_0)\n",
    "\n",
    "print (f'RMSE_0 = {mse_0**0.5:.4f}')\n",
    "print(f'R2_0 metric value: {R2_0:.4f}')\n",
    "print(f'MAE_0= {mean_absolute_error(target_valid_0, predict_0):.4f}')\n",
    "                       "
   ]
  },
  {
   "cell_type": "code",
   "execution_count": 16,
   "metadata": {},
   "outputs": [
    {
     "name": "stdout",
     "output_type": "stream",
     "text": [
      "Average volume of predicted reserves = 68.7285\n",
      "RMSE_1 = 0.8931\n",
      "R2_1 metric value: 0.9996\n",
      "MAE_1= 0.7188\n"
     ]
    }
   ],
   "source": [
    "# data_1\n",
    "features_1 = data_1.drop(['product'], axis=1) \n",
    "target_1 = data_1['product']\n",
    "\n",
    "features_train_1, features_valid_1, target_train_1, target_valid_1 = train_test_split(features_1, target_1, test_size=0.25, random_state=12345)\n",
    "\n",
    "model = LinearRegression()\n",
    "model.fit(features_train_1, target_train_1)\n",
    "predict_1 = model.predict(features_valid_1)\n",
    "\n",
    "predict_1_avg = predict_1.mean()\n",
    "print(f'Average volume of predicted reserves = {predict_1_avg:.4f}')\n",
    "\n",
    "# below, we calculate RMSE, R2 and MAE metrics:\n",
    "mse_1 = mean_squared_error(target_valid_1, predict_1)\n",
    "R2_1 = model.score(features_valid_1, target_valid_1)\n",
    "\n",
    "print (f'RMSE_1 = {mse_1**0.5:.4f}')\n",
    "print(f'R2_1 metric value: {R2_1:.4f}')\n",
    "print(f'MAE_1= {mean_absolute_error(target_valid_1, predict_1):.4f}')\n"
   ]
  },
  {
   "cell_type": "code",
   "execution_count": 17,
   "metadata": {},
   "outputs": [
    {
     "name": "stdout",
     "output_type": "stream",
     "text": [
      "Avrage volume of predicted reserves = 94.9650\n",
      "RMSE_2 = 40.0297\n",
      "R2_2 metric value: 0.2052\n",
      "MAE_2= 32.7927\n"
     ]
    }
   ],
   "source": [
    "# data_2\n",
    "\n",
    "features_2 = data_2.drop(['product'], axis=1) \n",
    "target_2 = data_2['product']\n",
    "\n",
    "features_train_2, features_valid_2, target_train_2, target_valid_2 = train_test_split(features_2, target_2, test_size=0.25, random_state=12345)\n",
    "\n",
    "model = LinearRegression()\n",
    "model.fit(features_train_2, target_train_2)\n",
    "predict_2 = model.predict(features_valid_2)\n",
    "\n",
    "predict_2_avg = predict_2.mean()\n",
    "print(f'Avrage volume of predicted reserves = {predict_2_avg:.4f}')\n",
    "\n",
    "# below, we calculate RMSE, R2 and MAE metrics:\n",
    "mse_2 = mean_squared_error(target_valid_2, predict_2)\n",
    "R2_2 = model.score(features_valid_2, target_valid_2)\n",
    "\n",
    "print (f'RMSE_2 = {mse_2**0.5:.4f}')\n",
    "print(f'R2_2 metric value: {R2_2:.4f}')\n",
    "print(f'MAE_2= {mean_absolute_error(target_valid_2, predict_2):.4f}')\n"
   ]
  },
  {
   "cell_type": "markdown",
   "metadata": {},
   "source": [
    "##### LinearRegression model predictions give the following average volume of predicted reserves: \n",
    "\n",
    "1) data_0 (region_1) -  92.5926; \n",
    "2) data_1 (region_2)  - 68.7285  \n",
    "3) data_2 (region_3) - 94.9650\n",
    "\n",
    "\n",
    "\n"
   ]
  },
  {
   "cell_type": "markdown",
   "metadata": {},
   "source": [
    "### Profit and risk of losses calculations"
   ]
  },
  {
   "cell_type": "code",
   "execution_count": 20,
   "metadata": {},
   "outputs": [
    {
     "name": "stdout",
     "output_type": "stream",
     "text": [
      "Required_budget_per_well = 500000.00\n",
      "Required_volume = 111.11\n"
     ]
    }
   ],
   "source": [
    "# given data for for profit calculation\n",
    "\n",
    "budget_for_200_wells = 100000000\n",
    "number_of_wells = 200\n",
    "cost_per_well = budget_for_200_wells/number_of_wells\n",
    "revenue_per_unit = 4500\n",
    "\n",
    "def profit_calculation(predictions, targets, cost_per_well, revenue_per_unit, count):\n",
    "    predict_sorted = predictions.sort_values(ascending=False)\n",
    "    selected_targets = targets[predict_sorted.index][:count]\n",
    "    \n",
    "    # Calculate total revenue and profit\n",
    "    total_revenue = selected_targets.sum() * revenue_per_unit\n",
    "    total_cost = cost_per_well * count\n",
    "    profit = total_revenue - total_cost\n",
    "    \n",
    "    return profit\n",
    "\n",
    "\n",
    "# Here, we calculate the volume of reserves sufficient for developing a new well without losses. \n",
    "\n",
    "required_budget_per_well = budget_for_200_wells/number_of_wells\n",
    "\n",
    "required_volume = required_budget_per_well/revenue_per_unit\n",
    "                              \n",
    "print(f'Required_budget_per_well = {required_budget_per_well:.2f}')\n",
    "print(f'Required_volume = {required_volume:.2f}')       #unit is thousand barrels\n"
   ]
  },
  {
   "cell_type": "markdown",
   "metadata": {},
   "source": [
    "##### The calculated volume of reserves sufficient for developing a new well without losses is 111.11 thousand barrels. This value is larger than the above shown predected average values of the regions (1) region_1 -  92.5926 thousand barrels, region_2  - 68.7285 thousand barrels, region_3 - 94.9650 thousand barrels. Therefore, below we will evaluate top 200 wells for each region."
   ]
  },
  {
   "cell_type": "code",
   "execution_count": 22,
   "metadata": {},
   "outputs": [],
   "source": [
    "# functions for calculating the profit metrics\n",
    "\n",
    "\n",
    "def profit_metrics(predictions, targets, cost_per_well, revenue_per_unit, count, num_samples=1000):\n",
    "    \n",
    "    state = np.random.RandomState(12345)\n",
    "    \n",
    "    profit_subsample = []\n",
    "    \n",
    "    for _ in range(num_samples):\n",
    "        target_subsample = targets.sample(n=500, replace=True, random_state=state)\n",
    "        predict_subsample = predictions[target_subsample.index]\n",
    "        profit_subsample.append(profit_calculation(predict_subsample, target_subsample, cost_per_well, revenue_per_unit, count))\n",
    "    \n",
    "    profit_subsample = pd.Series(profit_subsample)\n",
    "\n",
    "    lower = profit_subsample.quantile(0.025)\n",
    "    upper = profit_subsample.quantile(0.975)\n",
    "    profit_mean = profit_subsample.mean()\n",
    "    risk_of_loss = (profit_subsample < 0).mean() * 100\n",
    "    \n",
    "    return profit_mean, lower, upper, risk_of_loss\n"
   ]
  },
  {
   "cell_type": "code",
   "execution_count": 23,
   "metadata": {},
   "outputs": [
    {
     "name": "stdout",
     "output_type": "stream",
     "text": [
      "Average profit_0 = 4259385.27\n",
      "95% confidence interval_0: lower = -1020900.95,  upper = 9479763.53\n",
      "Risk of loss_0 = 6.00%\n"
     ]
    }
   ],
   "source": [
    "# data_0: functions for calculating the profit metrics\n",
    "\n",
    "#creating df_0 by combining the target_valid_0 and predict_0\n",
    "\n",
    "predictions_0 = pd.Series(predict_0, index = target_valid_0.index)\n",
    "df_0 = pd.DataFrame({'predictions_0':predictions_0, 'target_valid_0':target_valid_0})\n",
    "\n",
    "predictions_0 = df_0['predictions_0']\n",
    "target_valid_0 = df_0['target_valid_0']\n",
    "\n",
    "\n",
    "profit_mean, lower, upper, risk_of_loss = profit_metrics(predictions_0, target_valid_0, cost_per_well, revenue_per_unit, 200)\n",
    "\n",
    "print(f'Average profit_0 = {profit_mean:.2f}')\n",
    "print(f'95% confidence interval_0: lower = {lower:.2f},  upper = {upper:.2f}')\n",
    "print(f'Risk of loss_0 = {risk_of_loss:.2f}%')\n"
   ]
  },
  {
   "cell_type": "code",
   "execution_count": 24,
   "metadata": {},
   "outputs": [
    {
     "name": "stdout",
     "output_type": "stream",
     "text": [
      "Average profit_1 = 5152227.73\n",
      "95% confidence interval_1: lower = 688732.25,  upper = 9315475.91\n",
      "Risk of loss_1 = 1.00%\n"
     ]
    }
   ],
   "source": [
    "# data_1: functions for calculating the profit metrics\n",
    "\n",
    "#creating df_1 by combining the target_valid_1 and predict_1\n",
    "\n",
    "predictions_1 = pd.Series(predict_1, index = target_valid_1.index)\n",
    "df_1 = pd.DataFrame({'predictions_1':predictions_1, 'target_valid_1':target_valid_1})\n",
    "\n",
    "predictions_1 = df_1['predictions_1']\n",
    "target_valid_1 = df_1['target_valid_1']\n",
    "\n",
    "\n",
    "profit_mean, lower, upper, risk_of_loss = profit_metrics(predictions_1, target_valid_1, cost_per_well, revenue_per_unit, 200)\n",
    "\n",
    "print(f'Average profit_1 = {profit_mean:.2f}')\n",
    "print(f'95% confidence interval_1: lower = {lower:.2f},  upper = {upper:.2f}')\n",
    "print(f'Risk of loss_1 = {risk_of_loss:.2f}%')\n"
   ]
  },
  {
   "cell_type": "code",
   "execution_count": 25,
   "metadata": {},
   "outputs": [
    {
     "name": "stdout",
     "output_type": "stream",
     "text": [
      "Average profit_2 = 4350083.63\n",
      "95% confidence interval_2: lower = -1288805.47,  upper = 9697069.54\n",
      "Risk of loss_2 = 6.40%\n"
     ]
    }
   ],
   "source": [
    "# data_2: functions for calculating the profit metrics\n",
    "\n",
    "#creating df_2 by combining the target_valid_2 and predict_2\n",
    "\n",
    "predictions_2 = pd.Series(predict_2, index = target_valid_2.index)\n",
    "df_2 = pd.DataFrame({'predictions_2':predictions_2, 'target_valid_2':target_valid_2})\n",
    "\n",
    "predictions_2 = df_2['predictions_2']\n",
    "target_valid_2 = df_2['target_valid_2']\n",
    "\n",
    "\n",
    "profit_mean, lower, upper, risk_of_loss = profit_metrics(predictions_2, target_valid_2, cost_per_well, revenue_per_unit, 200)\n",
    "\n",
    "print(f'Average profit_2 = {profit_mean:.2f}')\n",
    "print(f'95% confidence interval_2: lower = {lower:.2f},  upper = {upper:.2f}')\n",
    "print(f'Risk of loss_2 = {risk_of_loss:.2f}%')\n"
   ]
  },
  {
   "cell_type": "markdown",
   "metadata": {},
   "source": [
    "#### Profit and risk of losses calculations show the following results: \n",
    "\n",
    "data_0:  \n",
    "Average profit_0 = 4259385.27     \n",
    "95% confidence interval: lower_0 = -1020900.95,  upper_0 = 9479763.53\n",
    "Risk of loss_0 = 6.00%\n",
    "\n",
    "data_1: \n",
    "Average profit_1 = 5152227.73    \n",
    "95% confidence interval: lower_1 = 688732.25, upper_1 = 9315475.91\n",
    "Risk of loss_1 = 1.00%\n",
    "\n",
    "data_2: \n",
    "Average profit_2 = 4350083.63    \n",
    "95% confidence interval: lower_2 = -1288805.47,   upper_2 = 9697069.54\n",
    "Risk of loss_2 = 6.40%\n"
   ]
  },
  {
   "cell_type": "markdown",
   "metadata": {},
   "source": [
    "### Conclusions. \n",
    "In this project, we analyzed data from the OilyGiant mining company to determine the best location for developing new oil wells. Using data on oil well parameters—specifically oil quality and volume of reserves—we built a Linear Regression model to predict the reserves in potential new wells. After selecting the wells with the highest predicted reserves, we estimated the total profits for each region. We then applied the Bootstrapping technique to calculate both the average profits and the risks of losses for each region. Our analysis revealed the following results:\n",
    "\n",
    "Region 1: Average profit = 4,259,385.27, Risk of losses = 6%\n",
    "Region 2: Average profit = 5,152,227.73, Risk of losses = 1%\n",
    "Region 3: Average profit = 4,259,385.27, Risk of losses = 6%\n",
    "Based on these findings, we recommend Region 2 as the optimal location for new oil wells, as it meets the project requirement of having a risk of losses below 2.5%. Region 2 offers the highest total profit and the lowest risk, making it the best choice for development."
   ]
  }
 ],
 "metadata": {
  "ExecuteTimeLog": [
   {
    "duration": 4,
    "start_time": "2024-08-16T16:04:55.309Z"
   },
   {
    "duration": 308,
    "start_time": "2024-08-16T16:08:14.025Z"
   },
   {
    "duration": 20,
    "start_time": "2024-08-16T16:08:24.671Z"
   },
   {
    "duration": 465,
    "start_time": "2024-08-16T16:08:41.340Z"
   },
   {
    "duration": 167,
    "start_time": "2024-08-16T16:08:42.240Z"
   },
   {
    "duration": 453,
    "start_time": "2024-08-16T16:09:06.918Z"
   },
   {
    "duration": 18,
    "start_time": "2024-08-16T16:11:37.486Z"
   },
   {
    "duration": 22,
    "start_time": "2024-08-16T16:11:58.588Z"
   },
   {
    "duration": 73,
    "start_time": "2024-08-16T16:12:21.227Z"
   },
   {
    "duration": 36,
    "start_time": "2024-08-16T16:12:27.050Z"
   },
   {
    "duration": 26,
    "start_time": "2024-08-16T16:12:42.729Z"
   },
   {
    "duration": 9,
    "start_time": "2024-08-16T16:14:06.728Z"
   },
   {
    "duration": 9,
    "start_time": "2024-08-16T16:14:10.784Z"
   },
   {
    "duration": 25,
    "start_time": "2024-08-16T16:14:17.056Z"
   },
   {
    "duration": 26,
    "start_time": "2024-08-16T16:14:44.895Z"
   },
   {
    "duration": 27,
    "start_time": "2024-08-16T16:14:53.133Z"
   },
   {
    "duration": 28,
    "start_time": "2024-08-16T16:15:08.171Z"
   },
   {
    "duration": 19,
    "start_time": "2024-08-16T16:15:26.579Z"
   },
   {
    "duration": 30,
    "start_time": "2024-08-16T16:15:50.833Z"
   },
   {
    "duration": 29,
    "start_time": "2024-08-16T16:16:00.533Z"
   },
   {
    "duration": 80,
    "start_time": "2024-08-16T16:37:14.751Z"
   },
   {
    "duration": 96,
    "start_time": "2024-08-16T16:37:30.222Z"
   },
   {
    "duration": 96,
    "start_time": "2024-08-16T16:37:53.266Z"
   },
   {
    "duration": 84,
    "start_time": "2024-08-16T16:38:03.762Z"
   },
   {
    "duration": 80,
    "start_time": "2024-08-16T16:38:22.122Z"
   },
   {
    "duration": 80,
    "start_time": "2024-08-16T16:38:37.461Z"
   },
   {
    "duration": 76,
    "start_time": "2024-08-16T16:38:46.982Z"
   },
   {
    "duration": 24,
    "start_time": "2024-08-16T17:27:30.582Z"
   },
   {
    "duration": 28,
    "start_time": "2024-08-16T17:27:40.019Z"
   },
   {
    "duration": 30,
    "start_time": "2024-08-16T18:05:31.688Z"
   },
   {
    "duration": 26,
    "start_time": "2024-08-16T18:06:13.041Z"
   },
   {
    "duration": 820,
    "start_time": "2024-08-16T18:06:18.432Z"
   },
   {
    "duration": 413,
    "start_time": "2024-08-16T18:06:19.257Z"
   },
   {
    "duration": 112,
    "start_time": "2024-08-16T18:06:19.673Z"
   },
   {
    "duration": 95,
    "start_time": "2024-08-16T18:06:19.789Z"
   },
   {
    "duration": 81,
    "start_time": "2024-08-16T18:06:20.055Z"
   },
   {
    "duration": 80,
    "start_time": "2024-08-16T18:06:21.608Z"
   },
   {
    "duration": 8,
    "start_time": "2024-08-16T19:25:03.028Z"
   },
   {
    "duration": 32,
    "start_time": "2024-08-16T19:25:34.460Z"
   },
   {
    "duration": 35,
    "start_time": "2024-08-16T19:25:46.826Z"
   },
   {
    "duration": 32,
    "start_time": "2024-08-16T19:26:17.246Z"
   },
   {
    "duration": 48,
    "start_time": "2024-08-16T19:26:46.863Z"
   },
   {
    "duration": 93,
    "start_time": "2024-08-16T19:28:34.077Z"
   },
   {
    "duration": 1402,
    "start_time": "2024-08-16T19:35:25.945Z"
   },
   {
    "duration": 23,
    "start_time": "2024-08-16T19:37:04.850Z"
   },
   {
    "duration": 47,
    "start_time": "2024-08-16T19:37:18.268Z"
   },
   {
    "duration": 28,
    "start_time": "2024-08-16T19:37:32.355Z"
   },
   {
    "duration": 1168,
    "start_time": "2024-08-16T22:23:35.780Z"
   },
   {
    "duration": 490,
    "start_time": "2024-08-16T22:23:36.952Z"
   },
   {
    "duration": 98,
    "start_time": "2024-08-16T22:23:37.444Z"
   },
   {
    "duration": 92,
    "start_time": "2024-08-16T22:23:37.547Z"
   },
   {
    "duration": 79,
    "start_time": "2024-08-16T22:23:37.871Z"
   },
   {
    "duration": 25,
    "start_time": "2024-08-16T22:23:39.281Z"
   },
   {
    "duration": 597,
    "start_time": "2024-08-16T22:23:40.598Z"
   },
   {
    "duration": 69,
    "start_time": "2024-08-16T22:24:31.868Z"
   },
   {
    "duration": 31,
    "start_time": "2024-08-16T22:25:20.202Z"
   },
   {
    "duration": 28,
    "start_time": "2024-08-16T22:31:50.894Z"
   },
   {
    "duration": 53,
    "start_time": "2024-08-16T22:35:05.143Z"
   },
   {
    "duration": 50,
    "start_time": "2024-08-16T22:35:22.723Z"
   },
   {
    "duration": 6563,
    "start_time": "2024-08-16T22:37:39.270Z"
   },
   {
    "duration": 30,
    "start_time": "2024-08-16T22:39:45.703Z"
   },
   {
    "duration": 33,
    "start_time": "2024-08-16T22:41:22.331Z"
   },
   {
    "duration": 28,
    "start_time": "2024-08-16T22:49:48.497Z"
   },
   {
    "duration": 32,
    "start_time": "2024-08-16T22:50:48.985Z"
   },
   {
    "duration": 43,
    "start_time": "2024-08-16T22:51:27.565Z"
   },
   {
    "duration": 26,
    "start_time": "2024-08-16T22:51:52.553Z"
   },
   {
    "duration": 27,
    "start_time": "2024-08-16T22:52:02.860Z"
   },
   {
    "duration": 39,
    "start_time": "2024-08-16T22:52:36.235Z"
   },
   {
    "duration": 27,
    "start_time": "2024-08-16T22:53:21.262Z"
   },
   {
    "duration": 30,
    "start_time": "2024-08-16T22:53:22.052Z"
   },
   {
    "duration": 28,
    "start_time": "2024-08-16T22:53:22.760Z"
   },
   {
    "duration": 1438,
    "start_time": "2024-08-16T23:09:30.566Z"
   },
   {
    "duration": 4,
    "start_time": "2024-08-16T23:09:41.586Z"
   },
   {
    "duration": 369,
    "start_time": "2024-08-16T23:09:42.093Z"
   },
   {
    "duration": 81,
    "start_time": "2024-08-16T23:09:42.580Z"
   },
   {
    "duration": 74,
    "start_time": "2024-08-16T23:09:43.183Z"
   },
   {
    "duration": 78,
    "start_time": "2024-08-16T23:09:44.000Z"
   },
   {
    "duration": 24,
    "start_time": "2024-08-16T23:09:45.836Z"
   },
   {
    "duration": 29,
    "start_time": "2024-08-16T23:10:14.758Z"
   },
   {
    "duration": 26,
    "start_time": "2024-08-16T23:10:15.559Z"
   },
   {
    "duration": 32,
    "start_time": "2024-08-16T23:10:16.453Z"
   },
   {
    "duration": 27,
    "start_time": "2024-08-16T23:11:25.431Z"
   },
   {
    "duration": 28,
    "start_time": "2024-08-16T23:11:58.401Z"
   },
   {
    "duration": 27,
    "start_time": "2024-08-16T23:12:05.977Z"
   },
   {
    "duration": 27,
    "start_time": "2024-08-16T23:12:13.158Z"
   },
   {
    "duration": 119,
    "start_time": "2024-08-16T23:41:05.121Z"
   },
   {
    "duration": 102,
    "start_time": "2024-08-16T23:42:02.337Z"
   },
   {
    "duration": 127,
    "start_time": "2024-08-16T23:42:15.209Z"
   },
   {
    "duration": 32,
    "start_time": "2024-08-16T23:42:24.764Z"
   },
   {
    "duration": 32,
    "start_time": "2024-08-16T23:44:16.380Z"
   },
   {
    "duration": 34,
    "start_time": "2024-08-16T23:44:35.620Z"
   },
   {
    "duration": 31,
    "start_time": "2024-08-16T23:48:17.499Z"
   },
   {
    "duration": 30,
    "start_time": "2024-08-16T23:51:23.544Z"
   },
   {
    "duration": 32,
    "start_time": "2024-08-16T23:52:00.245Z"
   },
   {
    "duration": 31,
    "start_time": "2024-08-16T23:53:54.227Z"
   },
   {
    "duration": 4,
    "start_time": "2024-08-16T23:56:23.879Z"
   },
   {
    "duration": 362,
    "start_time": "2024-08-16T23:56:24.321Z"
   },
   {
    "duration": 89,
    "start_time": "2024-08-16T23:56:24.812Z"
   },
   {
    "duration": 76,
    "start_time": "2024-08-16T23:56:25.340Z"
   },
   {
    "duration": 84,
    "start_time": "2024-08-16T23:56:25.871Z"
   },
   {
    "duration": 26,
    "start_time": "2024-08-16T23:56:26.788Z"
   },
   {
    "duration": 36,
    "start_time": "2024-08-16T23:56:27.638Z"
   },
   {
    "duration": 30,
    "start_time": "2024-08-16T23:56:28.509Z"
   },
   {
    "duration": 28,
    "start_time": "2024-08-16T23:56:28.965Z"
   },
   {
    "duration": 29,
    "start_time": "2024-08-16T23:59:19.562Z"
   },
   {
    "duration": 37,
    "start_time": "2024-08-16T23:59:50.315Z"
   },
   {
    "duration": 30,
    "start_time": "2024-08-17T00:00:07.593Z"
   },
   {
    "duration": 29,
    "start_time": "2024-08-17T00:01:02.186Z"
   },
   {
    "duration": 28,
    "start_time": "2024-08-17T00:01:35.169Z"
   },
   {
    "duration": 29,
    "start_time": "2024-08-17T00:01:57.095Z"
   },
   {
    "duration": 30,
    "start_time": "2024-08-17T00:02:14.170Z"
   },
   {
    "duration": 32,
    "start_time": "2024-08-17T00:02:25.196Z"
   },
   {
    "duration": 32,
    "start_time": "2024-08-17T00:02:46.736Z"
   },
   {
    "duration": 31,
    "start_time": "2024-08-17T00:02:59.534Z"
   },
   {
    "duration": 32,
    "start_time": "2024-08-17T00:04:39.364Z"
   },
   {
    "duration": 27,
    "start_time": "2024-08-17T00:06:44.340Z"
   },
   {
    "duration": 30,
    "start_time": "2024-08-17T00:08:27.750Z"
   },
   {
    "duration": 27,
    "start_time": "2024-08-17T00:08:43.915Z"
   },
   {
    "duration": 32,
    "start_time": "2024-08-17T00:09:36.039Z"
   },
   {
    "duration": 28,
    "start_time": "2024-08-17T00:11:12.865Z"
   },
   {
    "duration": 28,
    "start_time": "2024-08-17T00:13:55.423Z"
   },
   {
    "duration": 29,
    "start_time": "2024-08-17T00:17:49.119Z"
   },
   {
    "duration": 31,
    "start_time": "2024-08-17T00:25:10.221Z"
   },
   {
    "duration": 129,
    "start_time": "2024-08-17T00:25:42.280Z"
   },
   {
    "duration": 4,
    "start_time": "2024-08-17T00:28:34.920Z"
   },
   {
    "duration": 386,
    "start_time": "2024-08-17T00:28:35.348Z"
   },
   {
    "duration": 79,
    "start_time": "2024-08-17T00:28:35.796Z"
   },
   {
    "duration": 75,
    "start_time": "2024-08-17T00:28:36.155Z"
   },
   {
    "duration": 78,
    "start_time": "2024-08-17T00:28:36.524Z"
   },
   {
    "duration": 24,
    "start_time": "2024-08-17T00:28:37.271Z"
   },
   {
    "duration": 30,
    "start_time": "2024-08-17T00:28:38.025Z"
   },
   {
    "duration": 28,
    "start_time": "2024-08-17T00:28:55.910Z"
   },
   {
    "duration": 28,
    "start_time": "2024-08-17T00:29:38.184Z"
   },
   {
    "duration": 28,
    "start_time": "2024-08-17T00:29:50.787Z"
   },
   {
    "duration": 30,
    "start_time": "2024-08-17T00:29:55.473Z"
   },
   {
    "duration": 4,
    "start_time": "2024-08-17T00:30:18.075Z"
   },
   {
    "duration": 352,
    "start_time": "2024-08-17T00:30:18.947Z"
   },
   {
    "duration": 81,
    "start_time": "2024-08-17T00:30:19.873Z"
   },
   {
    "duration": 83,
    "start_time": "2024-08-17T00:30:20.818Z"
   },
   {
    "duration": 77,
    "start_time": "2024-08-17T00:30:21.527Z"
   },
   {
    "duration": 26,
    "start_time": "2024-08-17T00:30:23.082Z"
   },
   {
    "duration": 33,
    "start_time": "2024-08-17T00:30:25.012Z"
   },
   {
    "duration": 31,
    "start_time": "2024-08-17T00:30:33.578Z"
   },
   {
    "duration": 31,
    "start_time": "2024-08-17T00:30:36.796Z"
   },
   {
    "duration": 31,
    "start_time": "2024-08-17T00:32:54.001Z"
   },
   {
    "duration": 10,
    "start_time": "2024-08-17T01:09:06.121Z"
   },
   {
    "duration": 71,
    "start_time": "2024-08-17T01:09:16.358Z"
   },
   {
    "duration": 5,
    "start_time": "2024-08-17T01:09:37.280Z"
   },
   {
    "duration": 376,
    "start_time": "2024-08-17T01:09:37.588Z"
   },
   {
    "duration": 85,
    "start_time": "2024-08-17T01:09:38.273Z"
   },
   {
    "duration": 74,
    "start_time": "2024-08-17T01:09:38.759Z"
   },
   {
    "duration": 81,
    "start_time": "2024-08-17T01:09:39.364Z"
   },
   {
    "duration": 26,
    "start_time": "2024-08-17T01:09:40.452Z"
   },
   {
    "duration": 120,
    "start_time": "2024-08-17T01:09:41.207Z"
   },
   {
    "duration": 31,
    "start_time": "2024-08-17T01:09:42.122Z"
   },
   {
    "duration": 31,
    "start_time": "2024-08-17T01:09:42.717Z"
   },
   {
    "duration": 103,
    "start_time": "2024-08-17T01:09:57.633Z"
   },
   {
    "duration": 28,
    "start_time": "2024-08-17T01:10:30.343Z"
   },
   {
    "duration": 32,
    "start_time": "2024-08-17T01:11:17.444Z"
   },
   {
    "duration": 33,
    "start_time": "2024-08-17T01:11:46.913Z"
   },
   {
    "duration": 29,
    "start_time": "2024-08-17T01:22:58.608Z"
   },
   {
    "duration": 29,
    "start_time": "2024-08-17T01:23:03.105Z"
   },
   {
    "duration": 29,
    "start_time": "2024-08-17T01:23:13.398Z"
   },
   {
    "duration": 30,
    "start_time": "2024-08-17T01:40:33.279Z"
   },
   {
    "duration": 30,
    "start_time": "2024-08-17T01:41:05.068Z"
   },
   {
    "duration": 31,
    "start_time": "2024-08-17T01:41:47.822Z"
   },
   {
    "duration": 30,
    "start_time": "2024-08-17T01:42:15.891Z"
   },
   {
    "duration": 4,
    "start_time": "2024-08-17T01:46:44.439Z"
   },
   {
    "duration": 370,
    "start_time": "2024-08-17T01:46:45.008Z"
   },
   {
    "duration": 80,
    "start_time": "2024-08-17T01:46:45.705Z"
   },
   {
    "duration": 74,
    "start_time": "2024-08-17T01:46:45.958Z"
   },
   {
    "duration": 79,
    "start_time": "2024-08-17T01:46:46.214Z"
   },
   {
    "duration": 24,
    "start_time": "2024-08-17T01:46:46.674Z"
   },
   {
    "duration": 33,
    "start_time": "2024-08-17T01:46:47.118Z"
   },
   {
    "duration": 32,
    "start_time": "2024-08-17T01:46:47.843Z"
   },
   {
    "duration": 30,
    "start_time": "2024-08-17T01:46:48.239Z"
   },
   {
    "duration": 33,
    "start_time": "2024-08-17T01:48:28.826Z"
   },
   {
    "duration": 32,
    "start_time": "2024-08-17T01:48:57.161Z"
   },
   {
    "duration": 32,
    "start_time": "2024-08-17T01:49:32.516Z"
   },
   {
    "duration": 4,
    "start_time": "2024-08-17T02:01:27.845Z"
   },
   {
    "duration": 354,
    "start_time": "2024-08-17T02:01:28.294Z"
   },
   {
    "duration": 79,
    "start_time": "2024-08-17T02:01:28.867Z"
   },
   {
    "duration": 7,
    "start_time": "2024-08-17T02:01:35.441Z"
   },
   {
    "duration": 4,
    "start_time": "2024-08-17T02:01:50.420Z"
   },
   {
    "duration": 377,
    "start_time": "2024-08-17T02:01:50.874Z"
   },
   {
    "duration": 78,
    "start_time": "2024-08-17T02:01:51.320Z"
   },
   {
    "duration": 77,
    "start_time": "2024-08-17T02:01:51.800Z"
   },
   {
    "duration": 80,
    "start_time": "2024-08-17T02:01:52.245Z"
   },
   {
    "duration": 23,
    "start_time": "2024-08-17T02:01:53.136Z"
   },
   {
    "duration": 34,
    "start_time": "2024-08-17T02:01:53.899Z"
   },
   {
    "duration": 31,
    "start_time": "2024-08-17T02:01:54.656Z"
   },
   {
    "duration": 33,
    "start_time": "2024-08-17T02:01:55.238Z"
   },
   {
    "duration": 1184,
    "start_time": "2024-08-17T05:27:28.556Z"
   },
   {
    "duration": 536,
    "start_time": "2024-08-17T05:27:29.743Z"
   },
   {
    "duration": 99,
    "start_time": "2024-08-17T05:27:30.282Z"
   },
   {
    "duration": 92,
    "start_time": "2024-08-17T05:27:30.384Z"
   },
   {
    "duration": 101,
    "start_time": "2024-08-17T05:27:30.479Z"
   },
   {
    "duration": 45,
    "start_time": "2024-08-17T05:27:30.583Z"
   },
   {
    "duration": 41,
    "start_time": "2024-08-17T05:27:31.163Z"
   },
   {
    "duration": 43,
    "start_time": "2024-08-17T05:27:31.793Z"
   },
   {
    "duration": 37,
    "start_time": "2024-08-17T05:27:32.119Z"
   },
   {
    "duration": 1152,
    "start_time": "2024-08-17T11:50:21.588Z"
   },
   {
    "duration": 499,
    "start_time": "2024-08-17T11:50:22.744Z"
   },
   {
    "duration": 95,
    "start_time": "2024-08-17T11:50:23.245Z"
   },
   {
    "duration": 96,
    "start_time": "2024-08-17T11:50:23.344Z"
   },
   {
    "duration": 100,
    "start_time": "2024-08-17T11:50:23.443Z"
   },
   {
    "duration": 27,
    "start_time": "2024-08-17T11:50:23.546Z"
   },
   {
    "duration": 35,
    "start_time": "2024-08-17T11:50:23.753Z"
   },
   {
    "duration": 37,
    "start_time": "2024-08-17T11:50:24.380Z"
   },
   {
    "duration": 35,
    "start_time": "2024-08-17T11:50:24.681Z"
   },
   {
    "duration": 9,
    "start_time": "2024-08-17T11:50:25.306Z"
   },
   {
    "duration": 1183,
    "start_time": "2024-08-17T17:16:49.268Z"
   },
   {
    "duration": 517,
    "start_time": "2024-08-17T17:16:50.455Z"
   },
   {
    "duration": 99,
    "start_time": "2024-08-17T17:16:50.974Z"
   },
   {
    "duration": 89,
    "start_time": "2024-08-17T17:16:51.077Z"
   },
   {
    "duration": 104,
    "start_time": "2024-08-17T17:16:51.169Z"
   },
   {
    "duration": 31,
    "start_time": "2024-08-17T17:16:51.275Z"
   },
   {
    "duration": 39,
    "start_time": "2024-08-17T17:16:52.067Z"
   },
   {
    "duration": 38,
    "start_time": "2024-08-17T17:16:53.492Z"
   },
   {
    "duration": 36,
    "start_time": "2024-08-17T17:16:54.179Z"
   },
   {
    "duration": 5,
    "start_time": "2024-08-17T17:16:57.213Z"
   },
   {
    "duration": 5,
    "start_time": "2024-08-17T17:33:13.037Z"
   },
   {
    "duration": 5,
    "start_time": "2024-08-17T17:33:18.589Z"
   },
   {
    "duration": 6,
    "start_time": "2024-08-17T17:36:26.439Z"
   },
   {
    "duration": 9,
    "start_time": "2024-08-17T17:38:20.569Z"
   },
   {
    "duration": 1239,
    "start_time": "2024-08-17T17:38:40.082Z"
   },
   {
    "duration": 4,
    "start_time": "2024-08-17T17:39:25.248Z"
   },
   {
    "duration": 359,
    "start_time": "2024-08-17T17:39:26.011Z"
   },
   {
    "duration": 103,
    "start_time": "2024-08-17T17:39:27.168Z"
   },
   {
    "duration": 171,
    "start_time": "2024-08-17T17:40:26.220Z"
   },
   {
    "duration": 4,
    "start_time": "2024-08-17T17:40:48.349Z"
   },
   {
    "duration": 385,
    "start_time": "2024-08-17T17:40:48.608Z"
   },
   {
    "duration": 118,
    "start_time": "2024-08-17T17:40:48.999Z"
   },
   {
    "duration": 98,
    "start_time": "2024-08-17T17:40:49.121Z"
   },
   {
    "duration": 101,
    "start_time": "2024-08-17T17:40:49.323Z"
   },
   {
    "duration": 33,
    "start_time": "2024-08-17T17:40:49.766Z"
   },
   {
    "duration": 44,
    "start_time": "2024-08-17T17:40:50.192Z"
   },
   {
    "duration": 48,
    "start_time": "2024-08-17T17:40:50.568Z"
   },
   {
    "duration": 101,
    "start_time": "2024-08-17T17:40:50.742Z"
   },
   {
    "duration": 11,
    "start_time": "2024-08-17T17:40:51.138Z"
   },
   {
    "duration": 9,
    "start_time": "2024-08-17T17:42:08.219Z"
   },
   {
    "duration": 8,
    "start_time": "2024-08-17T17:42:43.370Z"
   },
   {
    "duration": 10,
    "start_time": "2024-08-17T17:43:05.087Z"
   },
   {
    "duration": 10,
    "start_time": "2024-08-17T17:43:24.743Z"
   },
   {
    "duration": 8,
    "start_time": "2024-08-17T17:43:31.510Z"
   },
   {
    "duration": 41,
    "start_time": "2024-08-17T17:52:07.133Z"
   },
   {
    "duration": 43,
    "start_time": "2024-08-17T17:52:25.544Z"
   },
   {
    "duration": 36,
    "start_time": "2024-08-17T17:52:30.738Z"
   },
   {
    "duration": 30,
    "start_time": "2024-08-17T17:55:24.867Z"
   },
   {
    "duration": 31,
    "start_time": "2024-08-17T17:56:07.757Z"
   },
   {
    "duration": 23,
    "start_time": "2024-08-17T17:56:57.785Z"
   },
   {
    "duration": 32,
    "start_time": "2024-08-17T17:59:04.531Z"
   },
   {
    "duration": 28,
    "start_time": "2024-08-17T17:59:33.119Z"
   },
   {
    "duration": 43,
    "start_time": "2024-08-17T18:00:06.136Z"
   },
   {
    "duration": 45,
    "start_time": "2024-08-17T18:00:35.500Z"
   },
   {
    "duration": 7,
    "start_time": "2024-08-17T18:00:43.543Z"
   },
   {
    "duration": 7,
    "start_time": "2024-08-17T18:00:52.617Z"
   },
   {
    "duration": 5,
    "start_time": "2024-08-17T18:01:04.174Z"
   },
   {
    "duration": 27,
    "start_time": "2024-08-17T18:01:14.738Z"
   },
   {
    "duration": 27,
    "start_time": "2024-08-17T18:01:42.671Z"
   },
   {
    "duration": 24,
    "start_time": "2024-08-17T18:02:20.707Z"
   },
   {
    "duration": 24,
    "start_time": "2024-08-17T18:03:46.254Z"
   },
   {
    "duration": 25,
    "start_time": "2024-08-17T18:03:58.007Z"
   },
   {
    "duration": 24,
    "start_time": "2024-08-17T18:04:11.414Z"
   },
   {
    "duration": 26,
    "start_time": "2024-08-17T18:04:20.572Z"
   },
   {
    "duration": 27,
    "start_time": "2024-08-17T18:04:34.241Z"
   },
   {
    "duration": 19,
    "start_time": "2024-08-17T18:05:07.912Z"
   },
   {
    "duration": 18,
    "start_time": "2024-08-17T18:05:24.312Z"
   },
   {
    "duration": 6,
    "start_time": "2024-08-17T18:05:36.381Z"
   },
   {
    "duration": 16,
    "start_time": "2024-08-17T18:05:48.982Z"
   },
   {
    "duration": 7,
    "start_time": "2024-08-17T18:06:05.145Z"
   },
   {
    "duration": 5,
    "start_time": "2024-08-17T18:06:22.584Z"
   },
   {
    "duration": 18,
    "start_time": "2024-08-17T18:06:30.883Z"
   },
   {
    "duration": 27,
    "start_time": "2024-08-17T18:06:55.257Z"
   },
   {
    "duration": 27,
    "start_time": "2024-08-17T18:07:51.629Z"
   },
   {
    "duration": 27,
    "start_time": "2024-08-17T18:11:49.749Z"
   },
   {
    "duration": 22,
    "start_time": "2024-08-17T18:11:50.387Z"
   },
   {
    "duration": 28,
    "start_time": "2024-08-17T18:11:50.978Z"
   },
   {
    "duration": 6,
    "start_time": "2024-08-17T18:13:29.822Z"
   },
   {
    "duration": 5,
    "start_time": "2024-08-17T18:14:22.244Z"
   },
   {
    "duration": 1213,
    "start_time": "2024-08-17T18:52:20.968Z"
   },
   {
    "duration": 494,
    "start_time": "2024-08-17T18:52:22.185Z"
   },
   {
    "duration": 113,
    "start_time": "2024-08-17T18:52:22.682Z"
   },
   {
    "duration": 97,
    "start_time": "2024-08-17T18:52:22.799Z"
   },
   {
    "duration": 96,
    "start_time": "2024-08-17T18:52:22.899Z"
   },
   {
    "duration": 35,
    "start_time": "2024-08-17T18:52:22.999Z"
   },
   {
    "duration": 40,
    "start_time": "2024-08-17T18:52:23.038Z"
   },
   {
    "duration": 38,
    "start_time": "2024-08-17T18:52:23.538Z"
   },
   {
    "duration": 36,
    "start_time": "2024-08-17T18:52:23.969Z"
   },
   {
    "duration": 27,
    "start_time": "2024-08-17T18:52:25.046Z"
   },
   {
    "duration": 21,
    "start_time": "2024-08-17T18:52:25.589Z"
   },
   {
    "duration": 27,
    "start_time": "2024-08-17T18:52:26.224Z"
   },
   {
    "duration": 6,
    "start_time": "2024-08-17T18:52:27.566Z"
   },
   {
    "duration": 47,
    "start_time": "2024-08-17T19:36:26.771Z"
   },
   {
    "duration": 31,
    "start_time": "2024-08-17T23:27:59.662Z"
   },
   {
    "duration": 509,
    "start_time": "2024-08-17T23:28:29.579Z"
   },
   {
    "duration": 33,
    "start_time": "2024-08-17T23:29:25.762Z"
   },
   {
    "duration": 32,
    "start_time": "2024-08-17T23:31:40.211Z"
   },
   {
    "duration": 24,
    "start_time": "2024-08-18T00:44:09.927Z"
   },
   {
    "duration": 6,
    "start_time": "2024-08-18T00:44:22.916Z"
   },
   {
    "duration": 358,
    "start_time": "2024-08-18T00:44:23.136Z"
   },
   {
    "duration": 105,
    "start_time": "2024-08-18T00:44:23.498Z"
   },
   {
    "duration": 77,
    "start_time": "2024-08-18T00:44:23.612Z"
   },
   {
    "duration": 90,
    "start_time": "2024-08-18T00:44:23.851Z"
   },
   {
    "duration": 23,
    "start_time": "2024-08-18T00:44:24.542Z"
   },
   {
    "duration": 31,
    "start_time": "2024-08-18T00:44:25.300Z"
   },
   {
    "duration": 33,
    "start_time": "2024-08-18T00:44:26.593Z"
   },
   {
    "duration": 31,
    "start_time": "2024-08-18T00:44:27.248Z"
   },
   {
    "duration": 23,
    "start_time": "2024-08-18T00:44:40.487Z"
   },
   {
    "duration": 23,
    "start_time": "2024-08-18T00:44:54.777Z"
   },
   {
    "duration": 9,
    "start_time": "2024-08-18T00:48:05.328Z"
   },
   {
    "duration": 11,
    "start_time": "2024-08-18T00:49:07.211Z"
   },
   {
    "duration": 12,
    "start_time": "2024-08-18T00:49:33.807Z"
   },
   {
    "duration": 8,
    "start_time": "2024-08-18T00:50:00.609Z"
   },
   {
    "duration": 1170,
    "start_time": "2024-08-18T03:53:36.297Z"
   },
   {
    "duration": 483,
    "start_time": "2024-08-18T03:53:37.470Z"
   },
   {
    "duration": 114,
    "start_time": "2024-08-18T03:53:37.956Z"
   },
   {
    "duration": 94,
    "start_time": "2024-08-18T03:53:38.074Z"
   },
   {
    "duration": 98,
    "start_time": "2024-08-18T03:53:38.171Z"
   },
   {
    "duration": 28,
    "start_time": "2024-08-18T03:53:38.272Z"
   },
   {
    "duration": 39,
    "start_time": "2024-08-18T03:53:38.382Z"
   },
   {
    "duration": 39,
    "start_time": "2024-08-18T03:53:38.800Z"
   },
   {
    "duration": 54,
    "start_time": "2024-08-18T03:53:38.986Z"
   },
   {
    "duration": 8,
    "start_time": "2024-08-18T03:53:39.400Z"
   },
   {
    "duration": 396,
    "start_time": "2024-08-18T03:53:39.592Z"
   },
   {
    "duration": 0,
    "start_time": "2024-08-18T03:53:39.991Z"
   },
   {
    "duration": 4,
    "start_time": "2024-08-18T03:53:40.176Z"
   },
   {
    "duration": 16,
    "start_time": "2024-08-18T03:53:41.529Z"
   },
   {
    "duration": 9,
    "start_time": "2024-08-18T03:53:42.475Z"
   },
   {
    "duration": 5,
    "start_time": "2024-08-18T03:54:54.516Z"
   },
   {
    "duration": 1149,
    "start_time": "2024-08-18T07:46:40.414Z"
   },
   {
    "duration": 507,
    "start_time": "2024-08-18T07:46:41.567Z"
   },
   {
    "duration": 113,
    "start_time": "2024-08-18T07:46:42.078Z"
   },
   {
    "duration": 96,
    "start_time": "2024-08-18T07:46:42.195Z"
   },
   {
    "duration": 96,
    "start_time": "2024-08-18T07:46:42.294Z"
   },
   {
    "duration": 26,
    "start_time": "2024-08-18T07:46:42.571Z"
   },
   {
    "duration": 42,
    "start_time": "2024-08-18T07:46:43.472Z"
   },
   {
    "duration": 44,
    "start_time": "2024-08-18T07:46:44.454Z"
   },
   {
    "duration": 34,
    "start_time": "2024-08-18T07:46:45.064Z"
   },
   {
    "duration": 6,
    "start_time": "2024-08-18T07:46:46.740Z"
   },
   {
    "duration": 5,
    "start_time": "2024-08-18T07:46:47.589Z"
   },
   {
    "duration": 9,
    "start_time": "2024-08-18T07:46:48.368Z"
   },
   {
    "duration": 4,
    "start_time": "2024-08-18T07:46:49.987Z"
   },
   {
    "duration": 7,
    "start_time": "2024-08-18T07:46:52.479Z"
   },
   {
    "duration": 6,
    "start_time": "2024-08-18T07:46:53.918Z"
   },
   {
    "duration": 6,
    "start_time": "2024-08-18T07:46:56.485Z"
   },
   {
    "duration": 1056,
    "start_time": "2024-08-18T07:49:01.379Z"
   },
   {
    "duration": 27,
    "start_time": "2024-08-18T07:50:22.754Z"
   },
   {
    "duration": 28,
    "start_time": "2024-08-18T07:51:21.579Z"
   },
   {
    "duration": 6,
    "start_time": "2024-08-18T08:16:08.941Z"
   },
   {
    "duration": 32,
    "start_time": "2024-08-18T08:16:23.576Z"
   },
   {
    "duration": 7,
    "start_time": "2024-08-18T08:16:25.351Z"
   },
   {
    "duration": 7,
    "start_time": "2024-08-18T08:16:26.204Z"
   },
   {
    "duration": 1262,
    "start_time": "2024-08-18T15:47:42.913Z"
   },
   {
    "duration": 515,
    "start_time": "2024-08-18T15:47:44.179Z"
   },
   {
    "duration": 127,
    "start_time": "2024-08-18T15:47:44.697Z"
   },
   {
    "duration": 107,
    "start_time": "2024-08-18T15:47:44.828Z"
   },
   {
    "duration": 108,
    "start_time": "2024-08-18T15:47:44.940Z"
   },
   {
    "duration": 26,
    "start_time": "2024-08-18T15:47:45.052Z"
   },
   {
    "duration": 41,
    "start_time": "2024-08-18T15:47:45.197Z"
   },
   {
    "duration": 40,
    "start_time": "2024-08-18T15:47:45.755Z"
   },
   {
    "duration": 39,
    "start_time": "2024-08-18T15:47:46.008Z"
   },
   {
    "duration": 6,
    "start_time": "2024-08-18T15:47:46.512Z"
   },
   {
    "duration": 413,
    "start_time": "2024-08-18T15:47:46.862Z"
   },
   {
    "duration": 0,
    "start_time": "2024-08-18T15:47:47.279Z"
   },
   {
    "duration": 4,
    "start_time": "2024-08-18T15:47:47.755Z"
   },
   {
    "duration": 10,
    "start_time": "2024-08-18T15:47:49.492Z"
   },
   {
    "duration": 8,
    "start_time": "2024-08-18T15:47:52.453Z"
   },
   {
    "duration": 34,
    "start_time": "2024-08-18T15:53:49.673Z"
   },
   {
    "duration": 41,
    "start_time": "2024-08-18T15:54:06.999Z"
   },
   {
    "duration": 223,
    "start_time": "2024-08-18T16:05:05.780Z"
   },
   {
    "duration": 6,
    "start_time": "2024-08-18T16:05:39.308Z"
   },
   {
    "duration": 35,
    "start_time": "2024-08-18T16:10:28.934Z"
   },
   {
    "duration": 60,
    "start_time": "2024-08-18T16:10:54.286Z"
   },
   {
    "duration": 32,
    "start_time": "2024-08-18T16:17:08.344Z"
   },
   {
    "duration": 9,
    "start_time": "2024-08-18T16:19:17.873Z"
   },
   {
    "duration": 10,
    "start_time": "2024-08-18T16:20:31.886Z"
   },
   {
    "duration": 9,
    "start_time": "2024-08-18T16:24:10.846Z"
   },
   {
    "duration": 664,
    "start_time": "2024-08-18T16:24:57.084Z"
   },
   {
    "duration": 32,
    "start_time": "2024-08-18T16:30:12.444Z"
   },
   {
    "duration": 55,
    "start_time": "2024-08-18T16:32:57.347Z"
   },
   {
    "duration": 44,
    "start_time": "2024-08-18T16:39:18.112Z"
   },
   {
    "duration": 39,
    "start_time": "2024-08-18T16:39:25.982Z"
   },
   {
    "duration": 35,
    "start_time": "2024-08-18T16:39:26.543Z"
   },
   {
    "duration": 19,
    "start_time": "2024-08-18T16:39:27.646Z"
   },
   {
    "duration": 27,
    "start_time": "2024-08-18T16:40:08.288Z"
   },
   {
    "duration": 18,
    "start_time": "2024-08-18T16:40:29.586Z"
   },
   {
    "duration": 15,
    "start_time": "2024-08-18T16:45:16.589Z"
   },
   {
    "duration": 10,
    "start_time": "2024-08-18T16:48:15.473Z"
   },
   {
    "duration": 11,
    "start_time": "2024-08-18T16:48:32.713Z"
   },
   {
    "duration": 13,
    "start_time": "2024-08-18T16:48:51.979Z"
   },
   {
    "duration": 1194,
    "start_time": "2024-08-18T18:06:11.570Z"
   },
   {
    "duration": 542,
    "start_time": "2024-08-18T18:06:12.767Z"
   },
   {
    "duration": 123,
    "start_time": "2024-08-18T18:06:13.312Z"
   },
   {
    "duration": 107,
    "start_time": "2024-08-18T18:06:13.439Z"
   },
   {
    "duration": 110,
    "start_time": "2024-08-18T18:06:13.549Z"
   },
   {
    "duration": 40,
    "start_time": "2024-08-18T18:06:13.662Z"
   },
   {
    "duration": 41,
    "start_time": "2024-08-18T18:06:13.778Z"
   },
   {
    "duration": 39,
    "start_time": "2024-08-18T18:06:14.429Z"
   },
   {
    "duration": 40,
    "start_time": "2024-08-18T18:06:14.936Z"
   },
   {
    "duration": 10,
    "start_time": "2024-08-18T18:06:16.122Z"
   },
   {
    "duration": 6,
    "start_time": "2024-08-18T18:06:17.157Z"
   },
   {
    "duration": 12,
    "start_time": "2024-08-18T18:06:18.284Z"
   },
   {
    "duration": 1223,
    "start_time": "2024-08-18T19:56:14.824Z"
   },
   {
    "duration": 485,
    "start_time": "2024-08-18T19:56:16.050Z"
   },
   {
    "duration": 127,
    "start_time": "2024-08-18T19:56:16.538Z"
   },
   {
    "duration": 98,
    "start_time": "2024-08-18T19:56:16.670Z"
   },
   {
    "duration": 97,
    "start_time": "2024-08-18T19:56:16.771Z"
   },
   {
    "duration": 26,
    "start_time": "2024-08-18T19:56:16.871Z"
   },
   {
    "duration": 59,
    "start_time": "2024-08-18T19:56:16.901Z"
   },
   {
    "duration": 108,
    "start_time": "2024-08-18T19:56:17.023Z"
   },
   {
    "duration": 110,
    "start_time": "2024-08-18T19:56:17.223Z"
   },
   {
    "duration": 9,
    "start_time": "2024-08-18T19:56:17.614Z"
   },
   {
    "duration": 5,
    "start_time": "2024-08-18T19:56:17.857Z"
   },
   {
    "duration": 11,
    "start_time": "2024-08-18T19:56:18.100Z"
   },
   {
    "duration": 14,
    "start_time": "2024-08-18T19:58:22.964Z"
   },
   {
    "duration": 426,
    "start_time": "2024-08-18T20:05:09.537Z"
   },
   {
    "duration": 50,
    "start_time": "2024-08-18T20:09:11.596Z"
   },
   {
    "duration": 38,
    "start_time": "2024-08-18T20:09:35.771Z"
   },
   {
    "duration": 38,
    "start_time": "2024-08-18T20:10:12.783Z"
   },
   {
    "duration": 13,
    "start_time": "2024-08-18T20:16:40.691Z"
   },
   {
    "duration": 17,
    "start_time": "2024-08-18T20:18:27.249Z"
   },
   {
    "duration": 18,
    "start_time": "2024-08-18T20:18:41.393Z"
   },
   {
    "duration": 52,
    "start_time": "2024-08-18T20:22:09.152Z"
   },
   {
    "duration": 51,
    "start_time": "2024-08-18T20:24:24.383Z"
   },
   {
    "duration": 52,
    "start_time": "2024-08-18T20:24:51.820Z"
   },
   {
    "duration": 844,
    "start_time": "2024-08-18T20:37:42.850Z"
   },
   {
    "duration": 86,
    "start_time": "2024-08-18T20:38:36.831Z"
   },
   {
    "duration": 92,
    "start_time": "2024-08-18T20:39:39.117Z"
   },
   {
    "duration": 240,
    "start_time": "2024-08-18T20:41:27.561Z"
   },
   {
    "duration": 33,
    "start_time": "2024-08-18T20:41:46.036Z"
   },
   {
    "duration": 38,
    "start_time": "2024-08-18T20:43:14.991Z"
   },
   {
    "duration": 39,
    "start_time": "2024-08-18T20:47:28.231Z"
   },
   {
    "duration": 49,
    "start_time": "2024-08-18T20:48:32.942Z"
   },
   {
    "duration": 1162,
    "start_time": "2024-08-18T21:29:11.581Z"
   },
   {
    "duration": 501,
    "start_time": "2024-08-18T21:29:12.747Z"
   },
   {
    "duration": 119,
    "start_time": "2024-08-18T21:29:13.250Z"
   },
   {
    "duration": 90,
    "start_time": "2024-08-18T21:29:13.375Z"
   },
   {
    "duration": 94,
    "start_time": "2024-08-18T21:29:13.468Z"
   },
   {
    "duration": 24,
    "start_time": "2024-08-18T21:29:13.565Z"
   },
   {
    "duration": 39,
    "start_time": "2024-08-18T21:29:13.610Z"
   },
   {
    "duration": 42,
    "start_time": "2024-08-18T21:29:13.976Z"
   },
   {
    "duration": 35,
    "start_time": "2024-08-18T21:29:14.210Z"
   },
   {
    "duration": 427,
    "start_time": "2024-08-18T21:29:14.683Z"
   },
   {
    "duration": 0,
    "start_time": "2024-08-18T21:29:15.115Z"
   },
   {
    "duration": 11,
    "start_time": "2024-08-18T21:29:15.161Z"
   },
   {
    "duration": 4,
    "start_time": "2024-08-18T21:29:15.832Z"
   },
   {
    "duration": 37,
    "start_time": "2024-08-18T21:29:49.354Z"
   },
   {
    "duration": 15,
    "start_time": "2024-08-18T21:30:06.409Z"
   },
   {
    "duration": 1152,
    "start_time": "2024-08-18T22:49:49.456Z"
   },
   {
    "duration": 495,
    "start_time": "2024-08-18T22:49:50.612Z"
   },
   {
    "duration": 123,
    "start_time": "2024-08-18T22:49:51.109Z"
   },
   {
    "duration": 95,
    "start_time": "2024-08-18T22:49:51.236Z"
   },
   {
    "duration": 97,
    "start_time": "2024-08-18T22:49:51.334Z"
   },
   {
    "duration": 25,
    "start_time": "2024-08-18T22:49:51.434Z"
   },
   {
    "duration": 65,
    "start_time": "2024-08-18T22:49:51.463Z"
   },
   {
    "duration": 35,
    "start_time": "2024-08-18T22:49:51.710Z"
   },
   {
    "duration": 36,
    "start_time": "2024-08-18T22:49:51.959Z"
   },
   {
    "duration": 12,
    "start_time": "2024-08-18T22:49:52.385Z"
   },
   {
    "duration": 5,
    "start_time": "2024-08-18T22:49:52.617Z"
   },
   {
    "duration": 11,
    "start_time": "2024-08-18T22:49:52.885Z"
   },
   {
    "duration": 4,
    "start_time": "2024-08-18T22:49:53.359Z"
   },
   {
    "duration": 9,
    "start_time": "2024-08-18T22:49:54.502Z"
   },
   {
    "duration": 427,
    "start_time": "2024-08-18T22:58:24.437Z"
   },
   {
    "duration": 43,
    "start_time": "2024-08-18T22:58:36.587Z"
   },
   {
    "duration": 13,
    "start_time": "2024-08-18T22:59:12.343Z"
   },
   {
    "duration": 41,
    "start_time": "2024-08-18T22:59:36.399Z"
   },
   {
    "duration": 49,
    "start_time": "2024-08-18T23:00:12.008Z"
   },
   {
    "duration": 34,
    "start_time": "2024-08-18T23:00:27.090Z"
   },
   {
    "duration": 12,
    "start_time": "2024-08-18T23:01:06.193Z"
   },
   {
    "duration": 13,
    "start_time": "2024-08-18T23:01:14.798Z"
   },
   {
    "duration": 1204,
    "start_time": "2024-08-19T01:58:13.055Z"
   },
   {
    "duration": 490,
    "start_time": "2024-08-19T01:58:14.263Z"
   },
   {
    "duration": 125,
    "start_time": "2024-08-19T01:58:14.756Z"
   },
   {
    "duration": 97,
    "start_time": "2024-08-19T01:58:14.885Z"
   },
   {
    "duration": 104,
    "start_time": "2024-08-19T01:58:15.001Z"
   },
   {
    "duration": 26,
    "start_time": "2024-08-19T01:58:15.109Z"
   },
   {
    "duration": 42,
    "start_time": "2024-08-19T01:58:15.601Z"
   },
   {
    "duration": 38,
    "start_time": "2024-08-19T01:58:16.114Z"
   },
   {
    "duration": 41,
    "start_time": "2024-08-19T01:58:16.306Z"
   },
   {
    "duration": 14,
    "start_time": "2024-08-19T01:58:17.480Z"
   },
   {
    "duration": 402,
    "start_time": "2024-08-19T01:58:18.886Z"
   },
   {
    "duration": 9,
    "start_time": "2024-08-19T01:58:19.593Z"
   },
   {
    "duration": 3,
    "start_time": "2024-08-19T01:58:21.167Z"
   },
   {
    "duration": 5,
    "start_time": "2024-08-19T01:59:06.916Z"
   },
   {
    "duration": 50,
    "start_time": "2024-08-19T02:04:25.691Z"
   },
   {
    "duration": 13,
    "start_time": "2024-08-19T02:04:47.558Z"
   },
   {
    "duration": 51,
    "start_time": "2024-08-19T02:07:07.000Z"
   },
   {
    "duration": 13,
    "start_time": "2024-08-19T02:07:48.817Z"
   },
   {
    "duration": 4,
    "start_time": "2024-08-19T02:11:24.124Z"
   },
   {
    "duration": 356,
    "start_time": "2024-08-19T02:11:24.436Z"
   },
   {
    "duration": 101,
    "start_time": "2024-08-19T02:11:24.862Z"
   },
   {
    "duration": 75,
    "start_time": "2024-08-19T02:11:25.182Z"
   },
   {
    "duration": 80,
    "start_time": "2024-08-19T02:11:25.521Z"
   },
   {
    "duration": 26,
    "start_time": "2024-08-19T02:11:26.091Z"
   },
   {
    "duration": 43,
    "start_time": "2024-08-19T02:11:26.677Z"
   },
   {
    "duration": 33,
    "start_time": "2024-08-19T02:11:27.326Z"
   },
   {
    "duration": 31,
    "start_time": "2024-08-19T02:11:27.746Z"
   },
   {
    "duration": 13,
    "start_time": "2024-08-19T02:11:28.301Z"
   },
   {
    "duration": 12,
    "start_time": "2024-08-19T02:11:28.762Z"
   },
   {
    "duration": 4,
    "start_time": "2024-08-19T02:11:29.050Z"
   },
   {
    "duration": 10,
    "start_time": "2024-08-19T02:11:29.607Z"
   },
   {
    "duration": 17,
    "start_time": "2024-08-19T02:12:17.658Z"
   },
   {
    "duration": 21,
    "start_time": "2024-08-19T02:12:28.382Z"
   },
   {
    "duration": 19,
    "start_time": "2024-08-19T02:12:35.082Z"
   },
   {
    "duration": 12,
    "start_time": "2024-08-19T02:13:24.107Z"
   },
   {
    "duration": 20,
    "start_time": "2024-08-19T02:14:53.151Z"
   },
   {
    "duration": 39,
    "start_time": "2024-08-19T02:16:10.267Z"
   },
   {
    "duration": 39,
    "start_time": "2024-08-19T02:17:07.413Z"
   },
   {
    "duration": 48,
    "start_time": "2024-08-19T02:17:29.080Z"
   },
   {
    "duration": 37,
    "start_time": "2024-08-19T02:17:40.276Z"
   },
   {
    "duration": 12,
    "start_time": "2024-08-19T02:18:15.504Z"
   },
   {
    "duration": 13,
    "start_time": "2024-08-19T02:21:10.788Z"
   },
   {
    "duration": 16,
    "start_time": "2024-08-19T02:22:39.764Z"
   },
   {
    "duration": 13,
    "start_time": "2024-08-19T02:22:53.650Z"
   },
   {
    "duration": 13,
    "start_time": "2024-08-19T02:23:00.464Z"
   },
   {
    "duration": 14,
    "start_time": "2024-08-19T02:23:26.350Z"
   },
   {
    "duration": 15,
    "start_time": "2024-08-19T02:23:39.947Z"
   },
   {
    "duration": 5,
    "start_time": "2024-08-19T02:23:52.543Z"
   },
   {
    "duration": 368,
    "start_time": "2024-08-19T02:23:52.992Z"
   },
   {
    "duration": 105,
    "start_time": "2024-08-19T02:23:53.363Z"
   },
   {
    "duration": 74,
    "start_time": "2024-08-19T02:23:53.610Z"
   },
   {
    "duration": 76,
    "start_time": "2024-08-19T02:23:53.882Z"
   },
   {
    "duration": 24,
    "start_time": "2024-08-19T02:23:54.558Z"
   },
   {
    "duration": 35,
    "start_time": "2024-08-19T02:23:54.988Z"
   },
   {
    "duration": 31,
    "start_time": "2024-08-19T02:23:55.723Z"
   },
   {
    "duration": 32,
    "start_time": "2024-08-19T02:23:55.906Z"
   },
   {
    "duration": 13,
    "start_time": "2024-08-19T02:23:56.560Z"
   },
   {
    "duration": 13,
    "start_time": "2024-08-19T02:23:56.866Z"
   },
   {
    "duration": 13,
    "start_time": "2024-08-19T02:23:57.127Z"
   },
   {
    "duration": 5,
    "start_time": "2024-08-19T02:23:57.428Z"
   },
   {
    "duration": 10,
    "start_time": "2024-08-19T02:23:57.822Z"
   },
   {
    "duration": 3,
    "start_time": "2024-08-19T02:23:59.093Z"
   },
   {
    "duration": 4,
    "start_time": "2024-08-19T02:28:05.875Z"
   },
   {
    "duration": 355,
    "start_time": "2024-08-19T02:28:06.690Z"
   },
   {
    "duration": 103,
    "start_time": "2024-08-19T02:28:07.227Z"
   },
   {
    "duration": 76,
    "start_time": "2024-08-19T02:28:07.613Z"
   },
   {
    "duration": 93,
    "start_time": "2024-08-19T02:28:08.152Z"
   },
   {
    "duration": 26,
    "start_time": "2024-08-19T02:28:12.820Z"
   },
   {
    "duration": 360,
    "start_time": "2024-08-19T02:29:42.363Z"
   },
   {
    "duration": 102,
    "start_time": "2024-08-19T02:29:43.091Z"
   },
   {
    "duration": 75,
    "start_time": "2024-08-19T02:29:43.709Z"
   },
   {
    "duration": 78,
    "start_time": "2024-08-19T02:29:44.344Z"
   },
   {
    "duration": 24,
    "start_time": "2024-08-19T02:29:47.443Z"
   },
   {
    "duration": 35,
    "start_time": "2024-08-19T02:29:58.539Z"
   },
   {
    "duration": 30,
    "start_time": "2024-08-19T02:30:00.836Z"
   },
   {
    "duration": 30,
    "start_time": "2024-08-19T02:30:01.532Z"
   },
   {
    "duration": 12,
    "start_time": "2024-08-19T02:30:03.838Z"
   },
   {
    "duration": 13,
    "start_time": "2024-08-19T02:30:04.591Z"
   },
   {
    "duration": 13,
    "start_time": "2024-08-19T02:30:06.173Z"
   },
   {
    "duration": 1135,
    "start_time": "2024-08-19T04:07:06.440Z"
   },
   {
    "duration": 518,
    "start_time": "2024-08-19T04:07:07.578Z"
   },
   {
    "duration": 115,
    "start_time": "2024-08-19T04:07:08.099Z"
   },
   {
    "duration": 93,
    "start_time": "2024-08-19T04:07:08.218Z"
   },
   {
    "duration": 96,
    "start_time": "2024-08-19T04:07:08.314Z"
   },
   {
    "duration": 25,
    "start_time": "2024-08-19T04:07:08.415Z"
   },
   {
    "duration": 38,
    "start_time": "2024-08-19T04:07:08.868Z"
   },
   {
    "duration": 34,
    "start_time": "2024-08-19T04:07:09.369Z"
   },
   {
    "duration": 34,
    "start_time": "2024-08-19T04:07:09.611Z"
   },
   {
    "duration": 416,
    "start_time": "2024-08-19T04:07:10.117Z"
   },
   {
    "duration": 0,
    "start_time": "2024-08-19T04:07:10.536Z"
   },
   {
    "duration": 13,
    "start_time": "2024-08-19T04:07:10.624Z"
   },
   {
    "duration": 5,
    "start_time": "2024-08-19T04:07:10.871Z"
   },
   {
    "duration": 12,
    "start_time": "2024-08-19T04:07:11.113Z"
   },
   {
    "duration": 3,
    "start_time": "2024-08-19T04:07:11.971Z"
   },
   {
    "duration": 13,
    "start_time": "2024-08-19T04:08:01.386Z"
   },
   {
    "duration": 11,
    "start_time": "2024-08-19T04:14:25.994Z"
   },
   {
    "duration": 7,
    "start_time": "2024-08-19T04:15:16.495Z"
   },
   {
    "duration": 34,
    "start_time": "2024-08-19T04:16:04.448Z"
   },
   {
    "duration": 10,
    "start_time": "2024-08-19T04:16:50.536Z"
   },
   {
    "duration": 32,
    "start_time": "2024-08-19T04:17:16.944Z"
   },
   {
    "duration": 9,
    "start_time": "2024-08-19T04:18:10.200Z"
   },
   {
    "duration": 35,
    "start_time": "2024-08-19T04:18:49.968Z"
   },
   {
    "duration": 8,
    "start_time": "2024-08-19T04:19:08.649Z"
   },
   {
    "duration": 7,
    "start_time": "2024-08-19T04:19:41.423Z"
   },
   {
    "duration": 7,
    "start_time": "2024-08-19T04:20:04.256Z"
   },
   {
    "duration": 9,
    "start_time": "2024-08-19T04:20:31.062Z"
   },
   {
    "duration": 8,
    "start_time": "2024-08-19T04:21:11.248Z"
   },
   {
    "duration": 9,
    "start_time": "2024-08-19T04:24:07.650Z"
   },
   {
    "duration": 7,
    "start_time": "2024-08-19T04:24:23.444Z"
   },
   {
    "duration": 7,
    "start_time": "2024-08-19T04:24:35.957Z"
   },
   {
    "duration": 8,
    "start_time": "2024-08-19T04:24:59.505Z"
   },
   {
    "duration": 9,
    "start_time": "2024-08-19T04:25:19.486Z"
   },
   {
    "duration": 7,
    "start_time": "2024-08-19T04:25:56.252Z"
   },
   {
    "duration": 9,
    "start_time": "2024-08-19T04:26:56.769Z"
   },
   {
    "duration": 5,
    "start_time": "2024-08-19T04:27:38.290Z"
   },
   {
    "duration": 388,
    "start_time": "2024-08-19T04:27:39.525Z"
   },
   {
    "duration": 113,
    "start_time": "2024-08-19T04:27:39.916Z"
   },
   {
    "duration": 86,
    "start_time": "2024-08-19T04:27:40.240Z"
   },
   {
    "duration": 93,
    "start_time": "2024-08-19T04:27:40.646Z"
   },
   {
    "duration": 26,
    "start_time": "2024-08-19T04:27:41.863Z"
   },
   {
    "duration": 44,
    "start_time": "2024-08-19T04:27:42.511Z"
   },
   {
    "duration": 9,
    "start_time": "2024-08-19T04:27:43.234Z"
   },
   {
    "duration": 36,
    "start_time": "2024-08-19T04:27:43.924Z"
   },
   {
    "duration": 33,
    "start_time": "2024-08-19T04:29:09.946Z"
   },
   {
    "duration": 35,
    "start_time": "2024-08-19T04:30:48.234Z"
   },
   {
    "duration": 34,
    "start_time": "2024-08-19T04:32:52.224Z"
   },
   {
    "duration": 9,
    "start_time": "2024-08-19T04:33:29.865Z"
   },
   {
    "duration": 38,
    "start_time": "2024-08-19T04:33:50.271Z"
   },
   {
    "duration": 34,
    "start_time": "2024-08-19T04:35:33.525Z"
   },
   {
    "duration": 41,
    "start_time": "2024-08-19T04:37:06.818Z"
   },
   {
    "duration": 33,
    "start_time": "2024-08-19T04:37:46.630Z"
   },
   {
    "duration": 31,
    "start_time": "2024-08-19T04:38:39.087Z"
   },
   {
    "duration": 34,
    "start_time": "2024-08-19T04:38:39.878Z"
   },
   {
    "duration": 14,
    "start_time": "2024-08-19T04:39:47.635Z"
   },
   {
    "duration": 14,
    "start_time": "2024-08-19T04:40:06.279Z"
   },
   {
    "duration": 13,
    "start_time": "2024-08-19T04:40:16.700Z"
   },
   {
    "duration": 4,
    "start_time": "2024-08-19T04:40:24.231Z"
   },
   {
    "duration": 1163,
    "start_time": "2024-08-19T06:23:39.456Z"
   },
   {
    "duration": 523,
    "start_time": "2024-08-19T06:23:40.630Z"
   },
   {
    "duration": 114,
    "start_time": "2024-08-19T06:23:41.155Z"
   },
   {
    "duration": 93,
    "start_time": "2024-08-19T06:23:41.272Z"
   },
   {
    "duration": 103,
    "start_time": "2024-08-19T06:23:41.368Z"
   },
   {
    "duration": 29,
    "start_time": "2024-08-19T06:23:41.474Z"
   },
   {
    "duration": 37,
    "start_time": "2024-08-19T06:23:41.937Z"
   },
   {
    "duration": 36,
    "start_time": "2024-08-19T06:23:42.386Z"
   },
   {
    "duration": 63,
    "start_time": "2024-08-19T06:23:42.567Z"
   },
   {
    "duration": 14,
    "start_time": "2024-08-19T06:23:43.281Z"
   },
   {
    "duration": 12,
    "start_time": "2024-08-19T06:23:43.534Z"
   },
   {
    "duration": 13,
    "start_time": "2024-08-19T06:23:43.718Z"
   },
   {
    "duration": 5,
    "start_time": "2024-08-19T06:23:43.933Z"
   },
   {
    "duration": 3,
    "start_time": "2024-08-19T06:23:44.364Z"
   },
   {
    "duration": 1215,
    "start_time": "2024-08-20T00:46:48.295Z"
   },
   {
    "duration": 585,
    "start_time": "2024-08-20T00:46:49.993Z"
   },
   {
    "duration": 125,
    "start_time": "2024-08-20T00:46:50.624Z"
   },
   {
    "duration": 94,
    "start_time": "2024-08-20T00:46:51.253Z"
   },
   {
    "duration": 80,
    "start_time": "2024-08-20T00:46:51.890Z"
   },
   {
    "duration": 26,
    "start_time": "2024-08-20T00:46:53.564Z"
   },
   {
    "duration": 40,
    "start_time": "2024-08-20T00:46:54.455Z"
   },
   {
    "duration": 36,
    "start_time": "2024-08-20T00:46:55.535Z"
   },
   {
    "duration": 34,
    "start_time": "2024-08-20T00:46:55.805Z"
   },
   {
    "duration": 15,
    "start_time": "2024-08-20T00:46:57.303Z"
   },
   {
    "duration": 13,
    "start_time": "2024-08-20T00:46:58.004Z"
   },
   {
    "duration": 11,
    "start_time": "2024-08-20T00:46:58.471Z"
   },
   {
    "duration": 6,
    "start_time": "2024-08-20T00:46:58.719Z"
   },
   {
    "duration": 3,
    "start_time": "2024-08-20T00:47:02.094Z"
   },
   {
    "duration": 1198,
    "start_time": "2024-08-20T02:31:15.718Z"
   },
   {
    "duration": 490,
    "start_time": "2024-08-20T02:31:16.920Z"
   },
   {
    "duration": 123,
    "start_time": "2024-08-20T02:31:17.412Z"
   },
   {
    "duration": 81,
    "start_time": "2024-08-20T02:31:17.538Z"
   },
   {
    "duration": 89,
    "start_time": "2024-08-20T02:31:17.622Z"
   },
   {
    "duration": 25,
    "start_time": "2024-08-20T02:31:17.762Z"
   },
   {
    "duration": 38,
    "start_time": "2024-08-20T02:31:18.236Z"
   },
   {
    "duration": 50,
    "start_time": "2024-08-20T02:31:18.620Z"
   },
   {
    "duration": 37,
    "start_time": "2024-08-20T02:31:18.836Z"
   },
   {
    "duration": 14,
    "start_time": "2024-08-20T02:31:19.405Z"
   },
   {
    "duration": 19,
    "start_time": "2024-08-20T02:31:19.599Z"
   },
   {
    "duration": 22,
    "start_time": "2024-08-20T02:31:19.765Z"
   },
   {
    "duration": 5,
    "start_time": "2024-08-20T02:31:19.935Z"
   },
   {
    "duration": 3,
    "start_time": "2024-08-20T02:31:20.550Z"
   },
   {
    "duration": 9,
    "start_time": "2024-08-20T02:31:21.724Z"
   },
   {
    "duration": 1190,
    "start_time": "2024-08-20T03:46:44.538Z"
   },
   {
    "duration": 525,
    "start_time": "2024-08-20T03:46:45.732Z"
   },
   {
    "duration": 121,
    "start_time": "2024-08-20T03:46:46.260Z"
   },
   {
    "duration": 117,
    "start_time": "2024-08-20T03:46:46.384Z"
   },
   {
    "duration": 87,
    "start_time": "2024-08-20T03:46:46.504Z"
   },
   {
    "duration": 27,
    "start_time": "2024-08-20T03:46:46.881Z"
   },
   {
    "duration": 36,
    "start_time": "2024-08-20T03:46:47.342Z"
   },
   {
    "duration": 36,
    "start_time": "2024-08-20T03:46:47.784Z"
   },
   {
    "duration": 34,
    "start_time": "2024-08-20T03:46:48.008Z"
   },
   {
    "duration": 14,
    "start_time": "2024-08-20T03:46:48.658Z"
   },
   {
    "duration": 415,
    "start_time": "2024-08-20T03:46:48.864Z"
   },
   {
    "duration": 0,
    "start_time": "2024-08-20T03:46:49.282Z"
   },
   {
    "duration": 13,
    "start_time": "2024-08-20T03:46:49.452Z"
   },
   {
    "duration": 4,
    "start_time": "2024-08-20T03:46:49.660Z"
   },
   {
    "duration": 3,
    "start_time": "2024-08-20T03:46:50.874Z"
   },
   {
    "duration": 13,
    "start_time": "2024-08-20T04:13:40.314Z"
   },
   {
    "duration": 11,
    "start_time": "2024-08-20T04:14:09.048Z"
   },
   {
    "duration": 40,
    "start_time": "2024-08-20T04:18:29.752Z"
   },
   {
    "duration": 5,
    "start_time": "2024-08-20T04:19:19.177Z"
   },
   {
    "duration": 412,
    "start_time": "2024-08-20T04:19:20.061Z"
   },
   {
    "duration": 128,
    "start_time": "2024-08-20T04:19:20.479Z"
   },
   {
    "duration": 104,
    "start_time": "2024-08-20T04:19:20.611Z"
   },
   {
    "duration": 94,
    "start_time": "2024-08-20T04:19:20.837Z"
   },
   {
    "duration": 27,
    "start_time": "2024-08-20T04:19:22.022Z"
   },
   {
    "duration": 38,
    "start_time": "2024-08-20T04:19:22.464Z"
   },
   {
    "duration": 35,
    "start_time": "2024-08-20T04:19:23.159Z"
   },
   {
    "duration": 36,
    "start_time": "2024-08-20T04:19:24.297Z"
   },
   {
    "duration": 6191,
    "start_time": "2024-08-20T04:19:26.428Z"
   },
   {
    "duration": 30,
    "start_time": "2024-08-20T04:19:32.623Z"
   },
   {
    "duration": 0,
    "start_time": "2024-08-20T04:19:32.656Z"
   },
   {
    "duration": 5385,
    "start_time": "2024-08-20T04:21:00.857Z"
   },
   {
    "duration": 5407,
    "start_time": "2024-08-20T04:21:47.756Z"
   },
   {
    "duration": 1614,
    "start_time": "2024-08-20T04:33:28.767Z"
   },
   {
    "duration": 1649,
    "start_time": "2024-08-20T04:36:14.803Z"
   },
   {
    "duration": 1631,
    "start_time": "2024-08-20T04:36:31.036Z"
   },
   {
    "duration": 1792,
    "start_time": "2024-08-20T04:38:01.344Z"
   },
   {
    "duration": 1639,
    "start_time": "2024-08-20T04:47:01.892Z"
   },
   {
    "duration": 1911,
    "start_time": "2024-08-20T04:47:14.070Z"
   },
   {
    "duration": 1781,
    "start_time": "2024-08-20T04:54:03.635Z"
   },
   {
    "duration": 1595,
    "start_time": "2024-08-20T04:58:20.629Z"
   },
   {
    "duration": 1617,
    "start_time": "2024-08-20T04:58:48.847Z"
   },
   {
    "duration": 1622,
    "start_time": "2024-08-20T04:59:11.596Z"
   },
   {
    "duration": 1580,
    "start_time": "2024-08-20T05:02:53.570Z"
   },
   {
    "duration": 1630,
    "start_time": "2024-08-20T05:08:57.446Z"
   },
   {
    "duration": 1612,
    "start_time": "2024-08-20T05:09:12.690Z"
   },
   {
    "duration": 1614,
    "start_time": "2024-08-20T05:09:40.799Z"
   },
   {
    "duration": 1588,
    "start_time": "2024-08-20T05:09:51.646Z"
   },
   {
    "duration": 1646,
    "start_time": "2024-08-20T05:09:57.561Z"
   },
   {
    "duration": 1671,
    "start_time": "2024-08-20T05:27:15.866Z"
   },
   {
    "duration": 1640,
    "start_time": "2024-08-20T05:27:27.967Z"
   },
   {
    "duration": 1583,
    "start_time": "2024-08-20T05:44:53.442Z"
   },
   {
    "duration": 11,
    "start_time": "2024-08-20T05:45:11.964Z"
   },
   {
    "duration": 11,
    "start_time": "2024-08-20T05:45:14.787Z"
   },
   {
    "duration": 1625,
    "start_time": "2024-08-20T05:45:28.890Z"
   },
   {
    "duration": 4,
    "start_time": "2024-08-20T05:57:10.381Z"
   },
   {
    "duration": 359,
    "start_time": "2024-08-20T05:57:11.715Z"
   },
   {
    "duration": 111,
    "start_time": "2024-08-20T05:57:12.077Z"
   },
   {
    "duration": 76,
    "start_time": "2024-08-20T05:57:12.333Z"
   },
   {
    "duration": 86,
    "start_time": "2024-08-20T05:57:12.623Z"
   },
   {
    "duration": 23,
    "start_time": "2024-08-20T05:57:13.505Z"
   },
   {
    "duration": 34,
    "start_time": "2024-08-20T05:57:14.281Z"
   },
   {
    "duration": 31,
    "start_time": "2024-08-20T05:57:14.985Z"
   },
   {
    "duration": 34,
    "start_time": "2024-08-20T05:57:15.300Z"
   },
   {
    "duration": 1633,
    "start_time": "2024-08-20T05:57:16.272Z"
   },
   {
    "duration": 1628,
    "start_time": "2024-08-20T05:57:17.908Z"
   },
   {
    "duration": 1602,
    "start_time": "2024-08-20T05:57:19.539Z"
   },
   {
    "duration": 12,
    "start_time": "2024-08-20T07:54:57.593Z"
   },
   {
    "duration": 3,
    "start_time": "2024-08-20T07:59:13.774Z"
   },
   {
    "duration": 9,
    "start_time": "2024-08-20T07:59:17.894Z"
   },
   {
    "duration": 1165,
    "start_time": "2024-08-20T15:52:28.172Z"
   },
   {
    "duration": 488,
    "start_time": "2024-08-20T15:52:29.340Z"
   },
   {
    "duration": 127,
    "start_time": "2024-08-20T15:52:29.830Z"
   },
   {
    "duration": 97,
    "start_time": "2024-08-20T15:52:29.961Z"
   },
   {
    "duration": 94,
    "start_time": "2024-08-20T15:52:30.061Z"
   },
   {
    "duration": 26,
    "start_time": "2024-08-20T15:52:30.158Z"
   },
   {
    "duration": 41,
    "start_time": "2024-08-20T15:52:32.505Z"
   },
   {
    "duration": 1208,
    "start_time": "2024-08-20T17:33:46.738Z"
   },
   {
    "duration": 538,
    "start_time": "2024-08-20T17:33:47.949Z"
   },
   {
    "duration": 119,
    "start_time": "2024-08-20T17:33:48.490Z"
   },
   {
    "duration": 124,
    "start_time": "2024-08-20T17:33:48.614Z"
   },
   {
    "duration": 105,
    "start_time": "2024-08-20T17:33:48.741Z"
   },
   {
    "duration": 43,
    "start_time": "2024-08-20T17:33:48.849Z"
   },
   {
    "duration": 44,
    "start_time": "2024-08-20T17:33:49.572Z"
   },
   {
    "duration": 43,
    "start_time": "2024-08-20T17:33:56.368Z"
   },
   {
    "duration": 50,
    "start_time": "2024-08-20T17:33:57.008Z"
   },
   {
    "duration": 1700,
    "start_time": "2024-08-20T17:33:59.805Z"
   },
   {
    "duration": 1752,
    "start_time": "2024-08-20T17:34:01.509Z"
   },
   {
    "duration": 1797,
    "start_time": "2024-08-20T17:34:03.264Z"
   },
   {
    "duration": 5,
    "start_time": "2024-08-20T18:10:38.619Z"
   },
   {
    "duration": 6,
    "start_time": "2024-08-20T18:11:29.463Z"
   },
   {
    "duration": 8,
    "start_time": "2024-08-20T18:12:34.227Z"
   },
   {
    "duration": 10,
    "start_time": "2024-08-20T18:12:50.269Z"
   },
   {
    "duration": 7,
    "start_time": "2024-08-20T18:13:08.266Z"
   },
   {
    "duration": 8,
    "start_time": "2024-08-20T18:13:21.910Z"
   },
   {
    "duration": 8,
    "start_time": "2024-08-20T18:13:40.819Z"
   },
   {
    "duration": 7,
    "start_time": "2024-08-20T18:14:10.341Z"
   },
   {
    "duration": 9,
    "start_time": "2024-08-20T18:14:47.447Z"
   },
   {
    "duration": 8,
    "start_time": "2024-08-20T18:15:50.155Z"
   },
   {
    "duration": 6,
    "start_time": "2024-08-20T18:22:05.503Z"
   },
   {
    "duration": 406,
    "start_time": "2024-08-20T18:22:06.095Z"
   },
   {
    "duration": 128,
    "start_time": "2024-08-20T18:22:06.505Z"
   },
   {
    "duration": 96,
    "start_time": "2024-08-20T18:22:06.636Z"
   },
   {
    "duration": 117,
    "start_time": "2024-08-20T18:22:06.736Z"
   },
   {
    "duration": 27,
    "start_time": "2024-08-20T18:22:07.395Z"
   },
   {
    "duration": 49,
    "start_time": "2024-08-20T18:22:08.549Z"
   },
   {
    "duration": 40,
    "start_time": "2024-08-20T18:22:09.464Z"
   },
   {
    "duration": 42,
    "start_time": "2024-08-20T18:22:09.728Z"
   },
   {
    "duration": 6,
    "start_time": "2024-08-20T18:22:10.975Z"
   },
   {
    "duration": 1889,
    "start_time": "2024-08-20T18:22:11.504Z"
   },
   {
    "duration": 1937,
    "start_time": "2024-08-20T18:22:13.397Z"
   },
   {
    "duration": 1777,
    "start_time": "2024-08-20T18:22:15.337Z"
   },
   {
    "duration": 1191,
    "start_time": "2024-08-20T21:28:58.546Z"
   },
   {
    "duration": 507,
    "start_time": "2024-08-20T21:28:59.741Z"
   },
   {
    "duration": 135,
    "start_time": "2024-08-20T21:29:00.252Z"
   },
   {
    "duration": 88,
    "start_time": "2024-08-20T21:29:00.390Z"
   },
   {
    "duration": 87,
    "start_time": "2024-08-20T21:29:00.492Z"
   },
   {
    "duration": 26,
    "start_time": "2024-08-20T21:29:02.126Z"
   },
   {
    "duration": 41,
    "start_time": "2024-08-20T21:29:03.111Z"
   },
   {
    "duration": 34,
    "start_time": "2024-08-20T21:29:04.907Z"
   },
   {
    "duration": 34,
    "start_time": "2024-08-20T21:29:05.508Z"
   },
   {
    "duration": 5,
    "start_time": "2024-08-20T21:29:12.164Z"
   },
   {
    "duration": 1632,
    "start_time": "2024-08-20T21:29:13.348Z"
   },
   {
    "duration": 1674,
    "start_time": "2024-08-20T21:29:14.984Z"
   },
   {
    "duration": 1624,
    "start_time": "2024-08-20T21:29:16.661Z"
   },
   {
    "duration": 686,
    "start_time": "2024-08-20T21:42:11.282Z"
   },
   {
    "duration": 2110,
    "start_time": "2024-08-20T21:44:04.652Z"
   },
   {
    "duration": 2117,
    "start_time": "2024-08-20T21:45:58.253Z"
   },
   {
    "duration": 2059,
    "start_time": "2024-08-20T21:50:23.268Z"
   },
   {
    "duration": 2198,
    "start_time": "2024-08-20T21:52:44.932Z"
   },
   {
    "duration": 57,
    "start_time": "2024-08-20T22:02:06.209Z"
   },
   {
    "duration": 377,
    "start_time": "2024-08-20T22:02:57.773Z"
   },
   {
    "duration": 1653,
    "start_time": "2024-08-20T22:04:00.713Z"
   },
   {
    "duration": 37,
    "start_time": "2024-08-20T22:30:21.040Z"
   },
   {
    "duration": 131,
    "start_time": "2024-08-20T22:30:21.081Z"
   },
   {
    "duration": 5,
    "start_time": "2024-08-20T22:30:24.417Z"
   },
   {
    "duration": 1667,
    "start_time": "2024-08-20T22:30:26.596Z"
   },
   {
    "duration": 1667,
    "start_time": "2024-08-20T22:30:28.474Z"
   },
   {
    "duration": 1663,
    "start_time": "2024-08-20T22:30:43.367Z"
   },
   {
    "duration": 1691,
    "start_time": "2024-08-20T22:30:48.003Z"
   },
   {
    "duration": 30,
    "start_time": "2024-08-20T22:33:52.827Z"
   },
   {
    "duration": 7,
    "start_time": "2024-08-20T22:35:57.356Z"
   },
   {
    "duration": 1654,
    "start_time": "2024-08-20T22:36:28.484Z"
   },
   {
    "duration": 1602,
    "start_time": "2024-08-20T22:37:51.648Z"
   },
   {
    "duration": 7,
    "start_time": "2024-08-20T22:38:14.992Z"
   },
   {
    "duration": 1667,
    "start_time": "2024-08-20T22:38:37.409Z"
   },
   {
    "duration": 1616,
    "start_time": "2024-08-20T22:40:18.213Z"
   },
   {
    "duration": 1608,
    "start_time": "2024-08-20T22:41:50.415Z"
   },
   {
    "duration": 4,
    "start_time": "2024-08-20T22:56:09.796Z"
   },
   {
    "duration": 396,
    "start_time": "2024-08-20T22:56:10.523Z"
   },
   {
    "duration": 121,
    "start_time": "2024-08-20T22:56:10.923Z"
   },
   {
    "duration": 79,
    "start_time": "2024-08-20T22:56:11.109Z"
   },
   {
    "duration": 80,
    "start_time": "2024-08-20T22:56:11.396Z"
   },
   {
    "duration": 24,
    "start_time": "2024-08-20T22:56:12.114Z"
   },
   {
    "duration": 33,
    "start_time": "2024-08-20T22:56:13.152Z"
   },
   {
    "duration": 30,
    "start_time": "2024-08-20T22:56:14.585Z"
   },
   {
    "duration": 32,
    "start_time": "2024-08-20T22:56:15.062Z"
   },
   {
    "duration": 7,
    "start_time": "2024-08-20T22:56:16.726Z"
   },
   {
    "duration": 8,
    "start_time": "2024-08-20T22:56:17.680Z"
   },
   {
    "duration": 1658,
    "start_time": "2024-08-20T22:56:18.137Z"
   },
   {
    "duration": 1667,
    "start_time": "2024-08-20T22:56:19.798Z"
   },
   {
    "duration": 1643,
    "start_time": "2024-08-20T22:56:21.469Z"
   },
   {
    "duration": 4,
    "start_time": "2024-08-20T23:00:25.640Z"
   },
   {
    "duration": 355,
    "start_time": "2024-08-20T23:00:27.172Z"
   },
   {
    "duration": 102,
    "start_time": "2024-08-20T23:00:27.923Z"
   },
   {
    "duration": 75,
    "start_time": "2024-08-20T23:00:29.068Z"
   },
   {
    "duration": 83,
    "start_time": "2024-08-20T23:00:29.755Z"
   },
   {
    "duration": 23,
    "start_time": "2024-08-20T23:00:31.890Z"
   },
   {
    "duration": 35,
    "start_time": "2024-08-20T23:00:33.686Z"
   },
   {
    "duration": 33,
    "start_time": "2024-08-20T23:00:35.267Z"
   },
   {
    "duration": 35,
    "start_time": "2024-08-20T23:00:35.962Z"
   },
   {
    "duration": 7,
    "start_time": "2024-08-20T23:00:38.292Z"
   },
   {
    "duration": 7,
    "start_time": "2024-08-20T23:00:39.583Z"
   },
   {
    "duration": 1874,
    "start_time": "2024-08-20T23:00:40.253Z"
   },
   {
    "duration": 1880,
    "start_time": "2024-08-20T23:00:42.131Z"
   },
   {
    "duration": 1747,
    "start_time": "2024-08-20T23:00:44.017Z"
   },
   {
    "duration": 7,
    "start_time": "2024-08-20T23:03:38.244Z"
   },
   {
    "duration": 376,
    "start_time": "2024-08-20T23:03:39.727Z"
   },
   {
    "duration": 111,
    "start_time": "2024-08-20T23:03:40.247Z"
   },
   {
    "duration": 79,
    "start_time": "2024-08-20T23:03:40.828Z"
   },
   {
    "duration": 80,
    "start_time": "2024-08-20T23:03:41.314Z"
   },
   {
    "duration": 24,
    "start_time": "2024-08-20T23:03:42.760Z"
   },
   {
    "duration": 32,
    "start_time": "2024-08-20T23:03:44.118Z"
   },
   {
    "duration": 35,
    "start_time": "2024-08-20T23:03:45.302Z"
   },
   {
    "duration": 32,
    "start_time": "2024-08-20T23:03:45.696Z"
   },
   {
    "duration": 7,
    "start_time": "2024-08-20T23:03:47.981Z"
   },
   {
    "duration": 7,
    "start_time": "2024-08-20T23:03:49.326Z"
   },
   {
    "duration": 1607,
    "start_time": "2024-08-20T23:03:50.065Z"
   },
   {
    "duration": 1615,
    "start_time": "2024-08-20T23:03:51.675Z"
   },
   {
    "duration": 1632,
    "start_time": "2024-08-20T23:03:53.293Z"
   }
  ],
  "kernelspec": {
   "display_name": "Python 3 (ipykernel)",
   "language": "python",
   "name": "python3"
  },
  "language_info": {
   "codemirror_mode": {
    "name": "ipython",
    "version": 3
   },
   "file_extension": ".py",
   "mimetype": "text/x-python",
   "name": "python",
   "nbconvert_exporter": "python",
   "pygments_lexer": "ipython3",
   "version": "3.12.4"
  },
  "toc": {
   "base_numbering": 1,
   "nav_menu": {},
   "number_sections": true,
   "sideBar": true,
   "skip_h1_title": true,
   "title_cell": "Table of Contents",
   "title_sidebar": "Contents",
   "toc_cell": false,
   "toc_position": {},
   "toc_section_display": true,
   "toc_window_display": false
  }
 },
 "nbformat": 4,
 "nbformat_minor": 4
}
